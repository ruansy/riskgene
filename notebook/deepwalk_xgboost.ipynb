{
 "cells": [
  {
   "cell_type": "code",
   "execution_count": 5,
   "metadata": {
    "collapsed": true,
    "ExecuteTime": {
     "end_time": "2023-05-23T06:48:22.049466Z",
     "start_time": "2023-05-23T06:48:20.450512Z"
    }
   },
   "outputs": [],
   "source": [
    "import os\n",
    "import pickle\n",
    "import time\n",
    "\n",
    "import numpy as np\n",
    "import xgboost\n",
    "from sklearn.model_selection import train_test_split\n",
    "from sklearn.utils.class_weight import compute_class_weight\n",
    "\n",
    "from src.mymetrics import MyMetrics\n",
    "from src.ppi import PPI\n",
    "\n",
    "\n",
    "def get_project_rootpath():\n",
    "    \"\"\"\n",
    "    获取项目根目录。此函数的能力体现在，不论当前module被import到任何位置，都可以正确获取项目根目录\n",
    "    :return:\n",
    "    \"\"\"\n",
    "    path = os.path.realpath(os.curdir)\n",
    "    while True:\n",
    "        for subpath in os.listdir(path):\n",
    "            # PyCharm项目中，'.idea'是必然存在的，且名称唯一\n",
    "            if '.idea' in subpath:\n",
    "                return path\n",
    "        path = os.path.dirname(path)\n",
    "\n",
    "\n",
    "os.chdir(get_project_rootpath())\n",
    "EMB_ROOT_PATH = 'data/emb/'\n",
    "PPI_PATH = 'data/network/PPI-Network.txt'\n",
    "GENECOUNT_PATH = 'data/genecount.xls'\n",
    "DEEPWALK_EMB_ROOT_PATH = os.path.join(EMB_ROOT_PATH, 'deepwalk')\n",
    "ENCODED_EMB_ROOT_PATH = os.path.join(EMB_ROOT_PATH, 'encoded')\n",
    "\n",
    "ppi = PPI(ppi_network_path=PPI_PATH, gene_count_path=GENECOUNT_PATH, k=6)"
   ]
  },
  {
   "cell_type": "code",
   "execution_count": 6,
   "outputs": [],
   "source": [
    "def dataloader(file_name, positive_gene: set, risklevel: dict):\n",
    "    data = file_name.strip('.emb').split('_')\n",
    "    param = {i[0]: i[1:] for i in data[1:4]}\n",
    "\n",
    "    # 训练特征和label\n",
    "    file_path = os.path.join(ENCODED_EMB_ROOT_PATH, file_name)\n",
    "    with open(file_path, 'r') as f:\n",
    "        data = [line.strip().split() for line in f.readlines()[1:]]\n",
    "    X = [line[1:] for line in data]\n",
    "    target = [1 if int(line[0]) in positive_gene else 0 for line in data]\n",
    "    X = np.asarray(X, dtype=float)\n",
    "    target = np.asarray(target, dtype=int)\n",
    "\n",
    "    # 权重\n",
    "    class_weight = compute_class_weight(class_weight='balanced', classes=[0, 1], y=target)\n",
    "    sample_weight = [risklevel[int(line[0])] * class_weight[1]\n",
    "                     if int(line[0]) in positive_gene else class_weight[0] for line in data]\n",
    "    return param, X, target, sample_weight"
   ],
   "metadata": {
    "collapsed": false,
    "ExecuteTime": {
     "end_time": "2023-05-23T06:48:25.051288Z",
     "start_time": "2023-05-23T06:48:25.034385Z"
    }
   }
  },
  {
   "cell_type": "code",
   "execution_count": null,
   "outputs": [],
   "source": [
    "ENCODED_EMB_ROOT_PATH = os.path.join(EMB_ROOT_PATH, 'encoded')\n",
    "datasets = os.listdir(ENCODED_EMB_ROOT_PATH)\n",
    "models_encoded = {}\n",
    "result_acc = {}\n",
    "result_f1 = {}\n",
    "result_auc = {}\n",
    "result_aupr = {}\n",
    "step = 1\n",
    "\n",
    "xgb_params = {\n",
    "    'objective': 'binary:logistic',\n",
    "    'eval_metric': 'auc',\n",
    "    'n_estimators': 1550,\n",
    "    'learning_rate': 0.01,\n",
    "    'max_depth': 6,\n",
    "    'min_child_weight': 5,\n",
    "    'gamma': 0.5,\n",
    "    'subsample': 0.8,\n",
    "    'colsample_bytree': 0.9,\n",
    "    'reg_alpha': 0.1,\n",
    "    'reg_lambda': 1,\n",
    "    'seed': 420\n",
    "}\n",
    "\n",
    "for dataset in datasets:\n",
    "    start_time = time.time()\n",
    "    params, X, y, weight = dataloader(dataset, ppi.positive_id, ppi.risk_level)\n",
    "    X_train, X_test, y_train, y_test, weight_train, weights_test = train_test_split(X, y,\n",
    "                                                                                    weight,\n",
    "                                                                                    test_size=0.3,\n",
    "                                                                                    random_state=420)\n",
    "\n",
    "    classifier = xgboost.XGBClassifier(**xgb_params)\n",
    "    classifier.fit(X_train, y_train)\n",
    "    y_pred = classifier.predict(X_test)\n",
    "    y_score = classifier.predict_proba(X_test)[:, 1]\n",
    "\n",
    "    metric = MyMetrics(y_test, y_pred)\n",
    "    acc, f1, auc, aupr = metric.evaluate(y_test, y_pred, y_score)\n",
    "    result_acc[(params['d'], params['l'], params['n'])] = acc\n",
    "    result_f1[(params['d'], params['l'], params['n'])] = f1\n",
    "    result_auc[(params['d'], params['l'], params['n'])] = auc\n",
    "    result_aupr[(params['d'], params['l'], params['n'])] = aupr\n",
    "    # save the trained model\n",
    "    model_name = f\"{params['d']}_{params['l']}_{params['n']}_deepwalk\"\n",
    "    models_encoded[model_name] = {'clf': classifier, 'f1': f1, 'aur': auc, 'acc': acc, 'aupr': aupr}\n",
    "\n",
    "    end_time = time.time()\n",
    "    time_taken = end_time - start_time\n",
    "    print(f\"Time taken for iteration {step}: {time_taken} seconds\")\n",
    "    print(f\"params: dim:{params['d']}, length:{params['l']}, num:{params['n']}\")\n",
    "    print(f\"f1:{f1:.4f}, auc:{auc:.4f}, acc:{acc:.4f}, aupr:{aupr:.4f}\\n\")\n",
    "    step += 1\n",
    "\n",
    "# save all models in a file\n",
    "with open(\"model/deepwalk_encoded_all_xgb_models.pkl\", \"wb\") as f:\n",
    "    pickle.dump(models_encoded, f)"
   ],
   "metadata": {
    "collapsed": false
   }
  },
  {
   "cell_type": "code",
   "execution_count": null,
   "outputs": [],
   "source": [
    "def observe_param_effect(result_dict, param):\n",
    "    def get_param_values(p):\n",
    "        values = set()\n",
    "        for key in result_dict.keys():\n",
    "            values.add(key[p])\n",
    "        return list(values)\n",
    "\n",
    "    def get_avg_param(k):\n",
    "        k_items = list(filter(lambda x: x[0][0] == k, result_dict.items()))\n",
    "        k_values = [x[1] for x in k_items]\n",
    "\n",
    "        avg_k = sum(k_values) / len(k_values)\n",
    "        return avg_k\n",
    "\n",
    "    param_map = {\n",
    "        'dim': 0,\n",
    "        'length': 1,\n",
    "        'num': 2\n",
    "    }\n",
    "    return {int(k): get_avg_param(k) for k in get_param_values(param_map[param])}\n",
    "\n",
    "\n",
    "observe_param_effect(result_aupr, 'dim')"
   ],
   "metadata": {
    "collapsed": false
   }
  },
  {
   "cell_type": "code",
   "execution_count": null,
   "outputs": [],
   "source": [
    "import matplotlib.ticker as ticker\n",
    "import matplotlib.pyplot as plt\n",
    "%matplotlib notebook\n",
    "\n",
    "def log_tick_formatter(val, pos=None):\n",
    "    return f\"{int(2 ** val)}\"\n",
    "\n",
    "\n",
    "def log_divide_tick_formatter(val, pos=None):\n",
    "    return f\"{int(10 * (2 ** val))}\"\n",
    "\n",
    "\n",
    "def log2_divide_by_10(l):\n",
    "    divide_list = list(map(lambda x: x / 10, l))\n",
    "    log_list = list(map(lambda x: np.log2(x), divide_list))\n",
    "    return log_list\n",
    "\n",
    "\n",
    "def plot_3d_params_impact(result_params: dict):\n",
    "    x = []\n",
    "    y = []\n",
    "    z = []\n",
    "    c = []\n",
    "    for k, v in result_params.items():\n",
    "        x.append(int(k[0]))\n",
    "        y.append(int(k[1]))\n",
    "        z.append(int(k[2]))\n",
    "        c.append(v)\n",
    "\n",
    "    x = list(map(lambda x: np.log2(x), x))\n",
    "    y = log2_divide_by_10(y)\n",
    "    z = log2_divide_by_10(z)\n",
    "\n",
    "    # Creating figure\n",
    "    fig = plt.figure(figsize=(8, 6))\n",
    "    ax = fig.add_subplot(111, projection='3d')\n",
    "\n",
    "    # Add x, y, z gridlines\n",
    "    ax.grid(visible=True, color='grey',\n",
    "            linestyle='-.', linewidth=0.3,\n",
    "            alpha=0.2)\n",
    "\n",
    "    # Creating color map\n",
    "    my_cmap = plt.get_cmap('hot')\n",
    "\n",
    "    # Creating plot\n",
    "    sctt = ax.scatter3D(x, y, z, alpha=0.8, c=c, cmap=my_cmap)\n",
    "\n",
    "    plt.title(\"simple 3D scatter plot\")\n",
    "\n",
    "    ax.set_xlabel('dim', fontweight='bold')\n",
    "    ax.set_ylabel('length', fontweight='bold')\n",
    "    ax.set_zlabel('num', fontweight='bold')\n",
    "\n",
    "    ax.xaxis.set_major_locator(ticker.MaxNLocator(4))\n",
    "    ax.yaxis.set_major_locator(ticker.MaxNLocator(3))\n",
    "    ax.zaxis.set_major_locator(ticker.MaxNLocator(3))\n",
    "\n",
    "    # Set x, y, z axis tick formatters\n",
    "    ax.xaxis.set_major_formatter(ticker.FuncFormatter(lambda x, pos: log_tick_formatter(x)))\n",
    "    ax.yaxis.set_major_formatter(ticker.FuncFormatter(lambda x, pos: log_divide_tick_formatter(x)))\n",
    "    ax.zaxis.set_major_formatter(ticker.FuncFormatter(lambda x, pos: log_divide_tick_formatter(x)))\n",
    "\n",
    "    fig.colorbar(sctt, ax=ax, shrink=0.5, aspect=5)\n",
    "    plt.show()\n",
    "\n",
    "\n",
    "plot_3d_params_impact(result_acc)"
   ],
   "metadata": {
    "collapsed": false
   }
  },
  {
   "cell_type": "code",
   "execution_count": null,
   "outputs": [],
   "source": [
    "plot_3d_params_impact(result_auc)"
   ],
   "metadata": {
    "collapsed": false
   }
  },
  {
   "cell_type": "code",
   "execution_count": null,
   "outputs": [],
   "source": [
    "plot_3d_params_impact(result_f1)"
   ],
   "metadata": {
    "collapsed": false
   }
  },
  {
   "cell_type": "code",
   "execution_count": null,
   "outputs": [],
   "source": [
    "plot_3d_params_impact(result_aupr)"
   ],
   "metadata": {
    "collapsed": false
   }
  },
  {
   "cell_type": "code",
   "execution_count": null,
   "outputs": [],
   "source": [
    "import dill\n",
    "\n",
    "with open('log/result_deepwalk.pkl', 'wb') as f:\n",
    "    dill.dump(result_acc, f)\n",
    "    dill.dump(result_aupr, f)\n",
    "    dill.dump(result_f1, f)\n",
    "    dill.dump(result_auc, f)"
   ],
   "metadata": {
    "collapsed": false
   }
  },
  {
   "cell_type": "code",
   "execution_count": null,
   "outputs": [],
   "source": [
    "with open('log/result_deepwalk.pkl', 'rb') as f:\n",
    "    result_acc = dill.load(f)\n",
    "    result_aupr = dill.load(f)\n",
    "    result_f1 = dill.load(f)\n",
    "    result_auc = dill.load(f)\n",
    "print(result_acc, result_aupr, result_f1, result_auc)"
   ],
   "metadata": {
    "collapsed": false
   }
  },
  {
   "cell_type": "code",
   "execution_count": null,
   "outputs": [],
   "source": [
    "def find_max(data_dict):\n",
    "    max_value = float('-inf')  # 初始化最大值为负无穷\n",
    "    max_pair = None  # 初始化最大值键值对为 None\n",
    "\n",
    "    for key, value in data_dict.items():\n",
    "        if value > max_value:\n",
    "            max_value = value\n",
    "            max_pair = (key, value)\n",
    "\n",
    "    return max_pair\n",
    "\n",
    "\n",
    "print(find_max(result_acc))\n",
    "print(find_max(result_f1))\n",
    "print(find_max(result_auc))\n",
    "print(find_max(result_aupr))"
   ],
   "metadata": {
    "collapsed": false
   }
  },
  {
   "cell_type": "code",
   "execution_count": 7,
   "outputs": [],
   "source": [
    "with open('model/deepwalk_encoded_all_xgb_models.pkl', 'rb') as f:\n",
    "    models = pickle.load(f)"
   ],
   "metadata": {
    "collapsed": false,
    "ExecuteTime": {
     "end_time": "2023-05-23T06:48:44.516653Z",
     "start_time": "2023-05-23T06:48:44.485467Z"
    }
   }
  },
  {
   "cell_type": "code",
   "execution_count": null,
   "outputs": [],
   "source": [
    "from sklearn.model_selection import cross_val_score\n",
    "from sklearn.metrics import make_scorer, f1_score, roc_auc_score, accuracy_score, average_precision_score\n",
    "\n",
    "result_acc = {}\n",
    "result_f1 = {}\n",
    "result_auc = {}\n",
    "result_aupr = {}\n",
    "step = 1\n",
    "\n",
    "scoring = {\n",
    "    'f1': make_scorer(f1_score),\n",
    "    'auc': make_scorer(roc_auc_score),\n",
    "    'accuracy': make_scorer(accuracy_score),\n",
    "    'aupr': make_scorer(average_precision_score)\n",
    "}\n",
    "\n",
    "for dataset in datasets:\n",
    "    start_time = time.time()\n",
    "    params, X, y, weight = dataloader(dataset, ppi.positive_id, ppi.risk_level)\n",
    "    X_train, X_test, y_train, y_test, weight_train, weights_test = train_test_split(X, y,\n",
    "                                                                                    weight,\n",
    "                                                                                    test_size=0.3,\n",
    "                                                                                    random_state=420)\n",
    "    key_index = params['d'] + '_' + params['l'] + '_' + params['n'] + '_deepwalk'\n",
    "    classifier = models[key_index]\n",
    "    cv_scores = cross_val_score(classifier, X, y, cv=5, scoring=scoring)\n",
    "    result_acc[(params['d'], params['l'], params['n'])] = cv_scores['accuracy']\n",
    "    result_f1[(params['d'], params['l'], params['n'])] = cv_scores['f1']\n",
    "    result_auc[(params['d'], params['l'], params['n'])] = cv_scores['auc']\n",
    "    result_aupr[(params['d'], params['l'], params['n'])] = cv_scores['aupr']\n",
    "\n",
    "    end_time = time.time()\n",
    "    time_taken = end_time - start_time\n",
    "    print(f\"Time taken for iteration {step}: {time_taken} seconds\")\n",
    "    print(f\"params: dim:{params['d']}, length:{params['l']}, num:{params['n']}\")\n",
    "    print(\n",
    "        f\"f1:{cv_scores['f1']:.4f}, auc:{cv_scores['auc']:.4f}, acc:{cv_scores['accuracy']:.4f}, aupr:{cv_scores['aupr']:.4f}\\n\")\n",
    "    step += 1#%%\n",
    "import os\n",
    "import pickle\n",
    "import time\n",
    "\n",
    "import numpy as np\n",
    "import xgboost\n",
    "from sklearn.model_selection import train_test_split\n",
    "from sklearn.utils.class_weight import compute_class_weight\n",
    "\n",
    "from src.mymetrics import MyMetrics\n",
    "from src.ppi import PPI\n",
    "\n",
    "\n",
    "def get_project_rootpath():\n",
    "    \"\"\"\n",
    "    获取项目根目录。此函数的能力体现在，不论当前module被import到任何位置，都可以正确获取项目根目录\n",
    "    :return:\n",
    "    \"\"\"\n",
    "    path = os.path.realpath(os.curdir)\n",
    "    while True:\n",
    "        for subpath in os.listdir(path):\n",
    "            # PyCharm项目中，'.idea'是必然存在的，且名称唯一\n",
    "            if '.idea' in subpath:\n",
    "                return path\n",
    "        path = os.path.dirname(path)\n",
    "\n",
    "\n",
    "os.chdir(get_project_rootpath())\n",
    "EMB_ROOT_PATH = 'data/emb/'\n",
    "PPI_PATH = 'data/network/PPI-Network.txt'\n",
    "GENECOUNT_PATH = 'data/genecount.xls'\n",
    "DEEPWALK_EMB_ROOT_PATH = os.path.join(EMB_ROOT_PATH, 'deepwalk')\n",
    "ENCODED_EMB_ROOT_PATH = os.path.join(EMB_ROOT_PATH, 'encoded')\n",
    "\n",
    "ppi = PPI(ppi_network_path=PPI_PATH, gene_count_path=GENECOUNT_PATH, k=6)"
   ],
   "metadata": {
    "collapsed": false
   }
  },
  {
   "cell_type": "code",
   "execution_count": null,
   "outputs": [],
   "source": [
    "def dataloader(file_name, positive_gene: set, risklevel: dict):\n",
    "    data = file_name.strip('.emb').split('_')\n",
    "    param = {i[0]: i[1:] for i in data[1:4]}\n",
    "\n",
    "    # 训练特征和label\n",
    "    file_path = os.path.join(ENCODED_EMB_ROOT_PATH, file_name)\n",
    "    with open(file_path, 'r') as f:\n",
    "        data = [line.strip().split() for line in f.readlines()[1:]]\n",
    "    X = [line[1:] for line in data]\n",
    "    target = [1 if int(line[0]) in positive_gene else 0 for line in data]\n",
    "    X = np.asarray(X, dtype=float)\n",
    "    target = np.asarray(target, dtype=int)\n",
    "\n",
    "    # 权重\n",
    "    class_weight = compute_class_weight(class_weight='balanced', classes=[0, 1], y=target)\n",
    "    sample_weight = [risklevel[int(line[0])] * class_weight[1]\n",
    "                     if int(line[0]) in positive_gene else class_weight[0] for line in data]\n",
    "    return param, X, target, sample_weight"
   ],
   "metadata": {
    "collapsed": false
   }
  },
  {
   "cell_type": "code",
   "execution_count": null,
   "outputs": [],
   "source": [
    "ENCODED_EMB_ROOT_PATH = os.path.join(EMB_ROOT_PATH, 'encoded')\n",
    "datasets = os.listdir(ENCODED_EMB_ROOT_PATH)\n",
    "models_encoded = {}\n",
    "result_acc = {}\n",
    "result_f1 = {}\n",
    "result_auc = {}\n",
    "result_aupr = {}\n",
    "step = 1\n",
    "\n",
    "xgb_params = {\n",
    "    'objective': 'binary:logistic',\n",
    "    'eval_metric': 'auc',\n",
    "    'n_estimators': 1550,\n",
    "    'learning_rate': 0.01,\n",
    "    'max_depth': 6,\n",
    "    'min_child_weight': 5,\n",
    "    'gamma': 0.5,\n",
    "    'subsample': 0.8,\n",
    "    'colsample_bytree': 0.9,\n",
    "    'reg_alpha': 0.1,\n",
    "    'reg_lambda': 1,\n",
    "    'seed': 420\n",
    "}\n",
    "\n",
    "for dataset in datasets:\n",
    "    start_time = time.time()\n",
    "    params, X, y, weight = dataloader(dataset, ppi.positive_id, ppi.risk_level)\n",
    "    X_train, X_test, y_train, y_test, weight_train, weights_test = train_test_split(X, y,\n",
    "                                                                                    weight,\n",
    "                                                                                    test_size=0.3,\n",
    "                                                                                    random_state=420)\n",
    "\n",
    "    classifier = xgboost.XGBClassifier(**xgb_params)\n",
    "    classifier.fit(X_train, y_train)\n",
    "    y_pred = classifier.predict(X_test)\n",
    "    y_score = classifier.predict_proba(X_test)[:, 1]\n",
    "\n",
    "    metric = MyMetrics(y_test, y_pred)\n",
    "    acc, f1, auc, aupr = metric.evaluate(y_test, y_pred, y_score)\n",
    "    result_acc[(params['d'], params['l'], params['n'])] = acc\n",
    "    result_f1[(params['d'], params['l'], params['n'])] = f1\n",
    "    result_auc[(params['d'], params['l'], params['n'])] = auc\n",
    "    result_aupr[(params['d'], params['l'], params['n'])] = aupr\n",
    "    # save the trained model\n",
    "    model_name = f\"{params['d']}_{params['l']}_{params['n']}_deepwalk\"\n",
    "    models_encoded[model_name] = {'clf': classifier, 'f1': f1, 'aur': auc, 'acc': acc, 'aupr': aupr}\n",
    "\n",
    "    end_time = time.time()\n",
    "    time_taken = end_time - start_time\n",
    "    print(f\"Time taken for iteration {step}: {time_taken} seconds\")\n",
    "    print(f\"params: dim:{params['d']}, length:{params['l']}, num:{params['n']}\")\n",
    "    print(f\"f1:{f1:.4f}, auc:{auc:.4f}, acc:{acc:.4f}, aupr:{aupr:.4f}\\n\")\n",
    "    step += 1\n",
    "\n",
    "# save all models in a file\n",
    "with open(\"model/deepwalk_encoded_all_xgb_models.pkl\", \"wb\") as f:\n",
    "    pickle.dump(models_encoded, f)"
   ],
   "metadata": {
    "collapsed": false
   }
  },
  {
   "cell_type": "code",
   "execution_count": null,
   "outputs": [],
   "source": [
    "def observe_param_effect(result_dict, param):\n",
    "    def get_param_values(p):\n",
    "        values = set()\n",
    "        for key in result_dict.keys():\n",
    "            values.add(key[p])\n",
    "        return list(values)\n",
    "\n",
    "    def get_avg_param(k):\n",
    "        k_items = list(filter(lambda x: x[0][0] == k, result_dict.items()))\n",
    "        k_values = [x[1] for x in k_items]\n",
    "\n",
    "        avg_k = sum(k_values) / len(k_values)\n",
    "        return avg_k\n",
    "\n",
    "    param_map = {\n",
    "        'dim': 0,\n",
    "        'length': 1,\n",
    "        'num': 2\n",
    "    }\n",
    "    return {int(k): get_avg_param(k) for k in get_param_values(param_map[param])}\n",
    "\n",
    "\n",
    "observe_param_effect(result_aupr, 'dim')"
   ],
   "metadata": {
    "collapsed": false
   }
  },
  {
   "cell_type": "code",
   "execution_count": null,
   "outputs": [],
   "source": [
    "import matplotlib.ticker as ticker\n",
    "import matplotlib.pyplot as plt\n",
    "%matplotlib notebook\n",
    "\n",
    "def log_tick_formatter(val, pos=None):\n",
    "    return f\"{int(2 ** val)}\"\n",
    "\n",
    "\n",
    "def log_divide_tick_formatter(val, pos=None):\n",
    "    return f\"{int(10 * (2 ** val))}\"\n",
    "\n",
    "\n",
    "def log2_divide_by_10(l):\n",
    "    divide_list = list(map(lambda x: x / 10, l))\n",
    "    log_list = list(map(lambda x: np.log2(x), divide_list))\n",
    "    return log_list\n",
    "\n",
    "\n",
    "def plot_3d_params_impact(result_params: dict):\n",
    "    x = []\n",
    "    y = []\n",
    "    z = []\n",
    "    c = []\n",
    "    for k, v in result_params.items():\n",
    "        x.append(int(k[0]))\n",
    "        y.append(int(k[1]))\n",
    "        z.append(int(k[2]))\n",
    "        c.append(v)\n",
    "\n",
    "    x = list(map(lambda x: np.log2(x), x))\n",
    "    y = log2_divide_by_10(y)\n",
    "    z = log2_divide_by_10(z)\n",
    "\n",
    "    # Creating figure\n",
    "    fig = plt.figure(figsize=(8, 6))\n",
    "    ax = fig.add_subplot(111, projection='3d')\n",
    "\n",
    "    # Add x, y, z gridlines\n",
    "    ax.grid(visible=True, color='grey',\n",
    "            linestyle='-.', linewidth=0.3,\n",
    "            alpha=0.2)\n",
    "\n",
    "    # Creating color map\n",
    "    my_cmap = plt.get_cmap('hot')\n",
    "\n",
    "    # Creating plot\n",
    "    sctt = ax.scatter3D(x, y, z, alpha=0.8, c=c, cmap=my_cmap)\n",
    "\n",
    "    plt.title(\"simple 3D scatter plot\")\n",
    "\n",
    "    ax.set_xlabel('dim', fontweight='bold')\n",
    "    ax.set_ylabel('length', fontweight='bold')\n",
    "    ax.set_zlabel('num', fontweight='bold')\n",
    "\n",
    "    ax.xaxis.set_major_locator(ticker.MaxNLocator(4))\n",
    "    ax.yaxis.set_major_locator(ticker.MaxNLocator(3))\n",
    "    ax.zaxis.set_major_locator(ticker.MaxNLocator(3))\n",
    "\n",
    "    # Set x, y, z axis tick formatters\n",
    "    ax.xaxis.set_major_formatter(ticker.FuncFormatter(lambda x, pos: log_tick_formatter(x)))\n",
    "    ax.yaxis.set_major_formatter(ticker.FuncFormatter(lambda x, pos: log_divide_tick_formatter(x)))\n",
    "    ax.zaxis.set_major_formatter(ticker.FuncFormatter(lambda x, pos: log_divide_tick_formatter(x)))\n",
    "\n",
    "    fig.colorbar(sctt, ax=ax, shrink=0.5, aspect=5)\n",
    "    plt.show()\n",
    "\n",
    "\n",
    "plot_3d_params_impact(result_acc)"
   ],
   "metadata": {
    "collapsed": false
   }
  },
  {
   "cell_type": "code",
   "execution_count": null,
   "outputs": [],
   "source": [
    "plot_3d_params_impact(result_auc)"
   ],
   "metadata": {
    "collapsed": false
   }
  },
  {
   "cell_type": "code",
   "execution_count": null,
   "outputs": [],
   "source": [
    "plot_3d_params_impact(result_f1)"
   ],
   "metadata": {
    "collapsed": false
   }
  },
  {
   "cell_type": "code",
   "execution_count": null,
   "outputs": [],
   "source": [
    "plot_3d_params_impact(result_aupr)"
   ],
   "metadata": {
    "collapsed": false
   }
  },
  {
   "cell_type": "code",
   "execution_count": null,
   "outputs": [],
   "source": [
    "import dill\n",
    "\n",
    "with open('log/result_deepwalk.pkl', 'wb') as f:\n",
    "    dill.dump(result_acc, f)\n",
    "    dill.dump(result_aupr, f)\n",
    "    dill.dump(result_f1, f)\n",
    "    dill.dump(result_auc, f)"
   ],
   "metadata": {
    "collapsed": false
   }
  },
  {
   "cell_type": "code",
   "execution_count": null,
   "outputs": [],
   "source": [
    "with open('log/result_deepwalk.pkl', 'rb') as f:\n",
    "    result_acc = dill.load(f)\n",
    "    result_aupr = dill.load(f)\n",
    "    result_f1 = dill.load(f)\n",
    "    result_auc = dill.load(f)\n",
    "print(result_acc, result_aupr, result_f1, result_auc)"
   ],
   "metadata": {
    "collapsed": false
   }
  },
  {
   "cell_type": "code",
   "execution_count": null,
   "outputs": [],
   "source": [
    "def find_max(data_dict):\n",
    "    max_value = float('-inf')  # 初始化最大值为负无穷\n",
    "    max_pair = None  # 初始化最大值键值对为 None\n",
    "\n",
    "    for key, value in data_dict.items():\n",
    "        if value > max_value:\n",
    "            max_value = value\n",
    "            max_pair = (key, value)\n",
    "\n",
    "    return max_pair\n",
    "\n",
    "\n",
    "print(find_max(result_acc))\n",
    "print(find_max(result_f1))\n",
    "print(find_max(result_auc))\n",
    "print(find_max(result_aupr))"
   ],
   "metadata": {
    "collapsed": false
   }
  },
  {
   "cell_type": "code",
   "execution_count": 8,
   "outputs": [],
   "source": [
    "with open('model/deepwalk_encoded_all_xgb_models.pkl', 'rb') as f:\n",
    "    models = pickle.load(f)"
   ],
   "metadata": {
    "collapsed": false,
    "ExecuteTime": {
     "end_time": "2023-05-23T06:49:13.222201Z",
     "start_time": "2023-05-23T06:49:13.193544Z"
    }
   }
  },
  {
   "cell_type": "code",
   "execution_count": 9,
   "outputs": [
    {
     "data": {
      "text/plain": "{'128_20_80_deepwalk': {'clf': XGBClassifier(base_score=0.5, booster='gbtree', callbacks=None,\n                colsample_bylevel=1, colsample_bynode=1, colsample_bytree=0.9,\n                early_stopping_rounds=None, enable_categorical=False,\n                eval_metric='auc', gamma=0.5, gpu_id=-1, grow_policy='depthwise',\n                importance_type=None, interaction_constraints='',\n                learning_rate=0.01, max_bin=256, max_cat_to_onehot=4,\n                max_delta_step=0, max_depth=6, max_leaves=0, min_child_weight=5,\n                missing=nan, monotone_constraints='()', n_estimators=1550,\n                n_jobs=0, num_parallel_tree=1, predictor='auto', random_state=420,\n                reg_alpha=0.1, reg_lambda=1, ...),\n  'f1': 0.7161271841879117,\n  'aur': 0.7689163559262312,\n  'acc': 0.6935683364254793,\n  'aupr': 0.7677139489585587},\n '256_20_20_deepwalk': {'clf': XGBClassifier(base_score=0.5, booster='gbtree', callbacks=None,\n                colsample_bylevel=1, colsample_bynode=1, colsample_bytree=0.9,\n                early_stopping_rounds=None, enable_categorical=False,\n                eval_metric='auc', gamma=0.5, gpu_id=-1, grow_policy='depthwise',\n                importance_type=None, interaction_constraints='',\n                learning_rate=0.01, max_bin=256, max_cat_to_onehot=4,\n                max_delta_step=0, max_depth=6, max_leaves=0, min_child_weight=5,\n                missing=nan, monotone_constraints='()', n_estimators=1550,\n                n_jobs=0, num_parallel_tree=1, predictor='auto', random_state=420,\n                reg_alpha=0.1, reg_lambda=1, ...),\n  'f1': 0.7059163059163059,\n  'aur': 0.7592174626422078,\n  'acc': 0.6849103277674706,\n  'aupr': 0.7610830911948213},\n '128_80_40_deepwalk': {'clf': XGBClassifier(base_score=0.5, booster='gbtree', callbacks=None,\n                colsample_bylevel=1, colsample_bynode=1, colsample_bytree=0.9,\n                early_stopping_rounds=None, enable_categorical=False,\n                eval_metric='auc', gamma=0.5, gpu_id=-1, grow_policy='depthwise',\n                importance_type=None, interaction_constraints='',\n                learning_rate=0.01, max_bin=256, max_cat_to_onehot=4,\n                max_delta_step=0, max_depth=6, max_leaves=0, min_child_weight=5,\n                missing=nan, monotone_constraints='()', n_estimators=1550,\n                n_jobs=0, num_parallel_tree=1, predictor='auto', random_state=420,\n                reg_alpha=0.1, reg_lambda=1, ...),\n  'f1': 0.7224783861671469,\n  'aur': 0.7774368069620157,\n  'acc': 0.7022263450834879,\n  'aupr': 0.7762513038201374},\n '512_40_40_deepwalk': {'clf': XGBClassifier(base_score=0.5, booster='gbtree', callbacks=None,\n                colsample_bylevel=1, colsample_bynode=1, colsample_bytree=0.9,\n                early_stopping_rounds=None, enable_categorical=False,\n                eval_metric='auc', gamma=0.5, gpu_id=-1, grow_policy='depthwise',\n                importance_type=None, interaction_constraints='',\n                learning_rate=0.01, max_bin=256, max_cat_to_onehot=4,\n                max_delta_step=0, max_depth=6, max_leaves=0, min_child_weight=5,\n                missing=nan, monotone_constraints='()', n_estimators=1550,\n                n_jobs=0, num_parallel_tree=1, predictor='auto', random_state=420,\n                reg_alpha=0.1, reg_lambda=1, ...),\n  'f1': 0.723686105111591,\n  'aur': 0.7753881414862227,\n  'acc': 0.703308596165739,\n  'aupr': 0.7718663989208405},\n '64_40_80_deepwalk': {'clf': XGBClassifier(base_score=0.5, booster='gbtree', callbacks=None,\n                colsample_bylevel=1, colsample_bynode=1, colsample_bytree=0.9,\n                early_stopping_rounds=None, enable_categorical=False,\n                eval_metric='auc', gamma=0.5, gpu_id=-1, grow_policy='depthwise',\n                importance_type=None, interaction_constraints='',\n                learning_rate=0.01, max_bin=256, max_cat_to_onehot=4,\n                max_delta_step=0, max_depth=6, max_leaves=0, min_child_weight=5,\n                missing=nan, monotone_constraints='()', n_estimators=1550,\n                n_jobs=0, num_parallel_tree=1, predictor='auto', random_state=420,\n                reg_alpha=0.1, reg_lambda=1, ...),\n  'f1': 0.7294525494727719,\n  'aur': 0.7872925865043157,\n  'acc': 0.7104205318491033,\n  'aupr': 0.7890175926692917},\n '128_80_20_deepwalk': {'clf': XGBClassifier(base_score=0.5, booster='gbtree', callbacks=None,\n                colsample_bylevel=1, colsample_bynode=1, colsample_bytree=0.9,\n                early_stopping_rounds=None, enable_categorical=False,\n                eval_metric='auc', gamma=0.5, gpu_id=-1, grow_policy='depthwise',\n                importance_type=None, interaction_constraints='',\n                learning_rate=0.01, max_bin=256, max_cat_to_onehot=4,\n                max_delta_step=0, max_depth=6, max_leaves=0, min_child_weight=5,\n                missing=nan, monotone_constraints='()', n_estimators=1550,\n                n_jobs=0, num_parallel_tree=1, predictor='auto', random_state=420,\n                reg_alpha=0.1, reg_lambda=1, ...),\n  'f1': 0.7244617829793382,\n  'aur': 0.7792644337272614,\n  'acc': 0.7051638837353124,\n  'aupr': 0.7771654689578207},\n '256_80_80_deepwalk': {'clf': XGBClassifier(base_score=0.5, booster='gbtree', callbacks=None,\n                colsample_bylevel=1, colsample_bynode=1, colsample_bytree=0.9,\n                early_stopping_rounds=None, enable_categorical=False,\n                eval_metric='auc', gamma=0.5, gpu_id=-1, grow_policy='depthwise',\n                importance_type=None, interaction_constraints='',\n                learning_rate=0.01, max_bin=256, max_cat_to_onehot=4,\n                max_delta_step=0, max_depth=6, max_leaves=0, min_child_weight=5,\n                missing=nan, monotone_constraints='()', n_estimators=1550,\n                n_jobs=0, num_parallel_tree=1, predictor='auto', random_state=420,\n                reg_alpha=0.1, reg_lambda=1, ...),\n  'f1': 0.7251495300484193,\n  'aur': 0.7779322649683948,\n  'acc': 0.7016079158936301,\n  'aupr': 0.7791529456252796},\n '256_20_40_deepwalk': {'clf': XGBClassifier(base_score=0.5, booster='gbtree', callbacks=None,\n                colsample_bylevel=1, colsample_bynode=1, colsample_bytree=0.9,\n                early_stopping_rounds=None, enable_categorical=False,\n                eval_metric='auc', gamma=0.5, gpu_id=-1, grow_policy='depthwise',\n                importance_type=None, interaction_constraints='',\n                learning_rate=0.01, max_bin=256, max_cat_to_onehot=4,\n                max_delta_step=0, max_depth=6, max_leaves=0, min_child_weight=5,\n                missing=nan, monotone_constraints='()', n_estimators=1550,\n                n_jobs=0, num_parallel_tree=1, predictor='auto', random_state=420,\n                reg_alpha=0.1, reg_lambda=1, ...),\n  'f1': 0.7068691250903834,\n  'aur': 0.7610932037466565,\n  'acc': 0.6866110080395794,\n  'aupr': 0.7621012744041351},\n '512_40_20_deepwalk': {'clf': XGBClassifier(base_score=0.5, booster='gbtree', callbacks=None,\n                colsample_bylevel=1, colsample_bynode=1, colsample_bytree=0.9,\n                early_stopping_rounds=None, enable_categorical=False,\n                eval_metric='auc', gamma=0.5, gpu_id=-1, grow_policy='depthwise',\n                importance_type=None, interaction_constraints='',\n                learning_rate=0.01, max_bin=256, max_cat_to_onehot=4,\n                max_delta_step=0, max_depth=6, max_leaves=0, min_child_weight=5,\n                missing=nan, monotone_constraints='()', n_estimators=1550,\n                n_jobs=0, num_parallel_tree=1, predictor='auto', random_state=420,\n                reg_alpha=0.1, reg_lambda=1, ...),\n  'f1': 0.719409892970784,\n  'aur': 0.77474096771772,\n  'acc': 0.7000618429189858,\n  'aupr': 0.7737604241667001},\n '512_40_80_deepwalk': {'clf': XGBClassifier(base_score=0.5, booster='gbtree', callbacks=None,\n                colsample_bylevel=1, colsample_bynode=1, colsample_bytree=0.9,\n                early_stopping_rounds=None, enable_categorical=False,\n                eval_metric='auc', gamma=0.5, gpu_id=-1, grow_policy='depthwise',\n                importance_type=None, interaction_constraints='',\n                learning_rate=0.01, max_bin=256, max_cat_to_onehot=4,\n                max_delta_step=0, max_depth=6, max_leaves=0, min_child_weight=5,\n                missing=nan, monotone_constraints='()', n_estimators=1550,\n                n_jobs=0, num_parallel_tree=1, predictor='auto', random_state=420,\n                reg_alpha=0.1, reg_lambda=1, ...),\n  'f1': 0.7340182648401826,\n  'aur': 0.7839910810856356,\n  'acc': 0.7118119975262832,\n  'aupr': 0.7782743494361205},\n '64_40_40_deepwalk': {'clf': XGBClassifier(base_score=0.5, booster='gbtree', callbacks=None,\n                colsample_bylevel=1, colsample_bynode=1, colsample_bytree=0.9,\n                early_stopping_rounds=None, enable_categorical=False,\n                eval_metric='auc', gamma=0.5, gpu_id=-1, grow_policy='depthwise',\n                importance_type=None, interaction_constraints='',\n                learning_rate=0.01, max_bin=256, max_cat_to_onehot=4,\n                max_delta_step=0, max_depth=6, max_leaves=0, min_child_weight=5,\n                missing=nan, monotone_constraints='()', n_estimators=1550,\n                n_jobs=0, num_parallel_tree=1, predictor='auto', random_state=420,\n                reg_alpha=0.1, reg_lambda=1, ...),\n  'f1': 0.7254618937644343,\n  'aur': 0.7850923488912924,\n  'acc': 0.7059369202226345,\n  'aupr': 0.7887301934939743},\n '128_20_40_deepwalk': {'clf': XGBClassifier(base_score=0.5, booster='gbtree', callbacks=None,\n                colsample_bylevel=1, colsample_bynode=1, colsample_bytree=0.9,\n                early_stopping_rounds=None, enable_categorical=False,\n                eval_metric='auc', gamma=0.5, gpu_id=-1, grow_policy='depthwise',\n                importance_type=None, interaction_constraints='',\n                learning_rate=0.01, max_bin=256, max_cat_to_onehot=4,\n                max_delta_step=0, max_depth=6, max_leaves=0, min_child_weight=5,\n                missing=nan, monotone_constraints='()', n_estimators=1550,\n                n_jobs=0, num_parallel_tree=1, predictor='auto', random_state=420,\n                reg_alpha=0.1, reg_lambda=1, ...),\n  'f1': 0.7099303135888502,\n  'aur': 0.7681462392491979,\n  'acc': 0.6910946196660482,\n  'aupr': 0.7661359097194289},\n '256_80_20_deepwalk': {'clf': XGBClassifier(base_score=0.5, booster='gbtree', callbacks=None,\n                colsample_bylevel=1, colsample_bynode=1, colsample_bytree=0.9,\n                early_stopping_rounds=None, enable_categorical=False,\n                eval_metric='auc', gamma=0.5, gpu_id=-1, grow_policy='depthwise',\n                importance_type=None, interaction_constraints='',\n                learning_rate=0.01, max_bin=256, max_cat_to_onehot=4,\n                max_delta_step=0, max_depth=6, max_leaves=0, min_child_weight=5,\n                missing=nan, monotone_constraints='()', n_estimators=1550,\n                n_jobs=0, num_parallel_tree=1, predictor='auto', random_state=420,\n                reg_alpha=0.1, reg_lambda=1, ...),\n  'f1': 0.7221664994984954,\n  'aur': 0.7749710547965352,\n  'acc': 0.7002164502164502,\n  'aupr': 0.7729605042009935},\n '128_80_80_deepwalk': {'clf': XGBClassifier(base_score=0.5, booster='gbtree', callbacks=None,\n                colsample_bylevel=1, colsample_bynode=1, colsample_bytree=0.9,\n                early_stopping_rounds=None, enable_categorical=False,\n                eval_metric='auc', gamma=0.5, gpu_id=-1, grow_policy='depthwise',\n                importance_type=None, interaction_constraints='',\n                learning_rate=0.01, max_bin=256, max_cat_to_onehot=4,\n                max_delta_step=0, max_depth=6, max_leaves=0, min_child_weight=5,\n                missing=nan, monotone_constraints='()', n_estimators=1550,\n                n_jobs=0, num_parallel_tree=1, predictor='auto', random_state=420,\n                reg_alpha=0.1, reg_lambda=1, ...),\n  'f1': 0.7305096913137114,\n  'aur': 0.7839392803741754,\n  'acc': 0.7098021026592455,\n  'aupr': 0.7802335421908524},\n '64_40_20_deepwalk': {'clf': XGBClassifier(base_score=0.5, booster='gbtree', callbacks=None,\n                colsample_bylevel=1, colsample_bynode=1, colsample_bytree=0.9,\n                early_stopping_rounds=None, enable_categorical=False,\n                eval_metric='auc', gamma=0.5, gpu_id=-1, grow_policy='depthwise',\n                importance_type=None, interaction_constraints='',\n                learning_rate=0.01, max_bin=256, max_cat_to_onehot=4,\n                max_delta_step=0, max_depth=6, max_leaves=0, min_child_weight=5,\n                missing=nan, monotone_constraints='()', n_estimators=1550,\n                n_jobs=0, num_parallel_tree=1, predictor='auto', random_state=420,\n                reg_alpha=0.1, reg_lambda=1, ...),\n  'f1': 0.7314734088927638,\n  'aur': 0.7896083464063902,\n  'acc': 0.7142857142857143,\n  'aupr': 0.790275391961611},\n '256_80_40_deepwalk': {'clf': XGBClassifier(base_score=0.5, booster='gbtree', callbacks=None,\n                colsample_bylevel=1, colsample_bynode=1, colsample_bytree=0.9,\n                early_stopping_rounds=None, enable_categorical=False,\n                eval_metric='auc', gamma=0.5, gpu_id=-1, grow_policy='depthwise',\n                importance_type=None, interaction_constraints='',\n                learning_rate=0.01, max_bin=256, max_cat_to_onehot=4,\n                max_delta_step=0, max_depth=6, max_leaves=0, min_child_weight=5,\n                missing=nan, monotone_constraints='()', n_estimators=1550,\n                n_jobs=0, num_parallel_tree=1, predictor='auto', random_state=420,\n                reg_alpha=0.1, reg_lambda=1, ...),\n  'f1': 0.7217701641684512,\n  'aur': 0.7733409122593613,\n  'acc': 0.6986703772418058,\n  'aupr': 0.7729193268245468},\n '256_20_80_deepwalk': {'clf': XGBClassifier(base_score=0.5, booster='gbtree', callbacks=None,\n                colsample_bylevel=1, colsample_bynode=1, colsample_bytree=0.9,\n                early_stopping_rounds=None, enable_categorical=False,\n                eval_metric='auc', gamma=0.5, gpu_id=-1, grow_policy='depthwise',\n                importance_type=None, interaction_constraints='',\n                learning_rate=0.01, max_bin=256, max_cat_to_onehot=4,\n                max_delta_step=0, max_depth=6, max_leaves=0, min_child_weight=5,\n                missing=nan, monotone_constraints='()', n_estimators=1550,\n                n_jobs=0, num_parallel_tree=1, predictor='auto', random_state=420,\n                reg_alpha=0.1, reg_lambda=1, ...),\n  'f1': 0.720493331421196,\n  'aur': 0.7735671214660617,\n  'acc': 0.6986703772418058,\n  'aupr': 0.7678462435484932},\n '128_20_20_deepwalk': {'clf': XGBClassifier(base_score=0.5, booster='gbtree', callbacks=None,\n                colsample_bylevel=1, colsample_bynode=1, colsample_bytree=0.9,\n                early_stopping_rounds=None, enable_categorical=False,\n                eval_metric='auc', gamma=0.5, gpu_id=-1, grow_policy='depthwise',\n                importance_type=None, interaction_constraints='',\n                learning_rate=0.01, max_bin=256, max_cat_to_onehot=4,\n                max_delta_step=0, max_depth=6, max_leaves=0, min_child_weight=5,\n                missing=nan, monotone_constraints='()', n_estimators=1550,\n                n_jobs=0, num_parallel_tree=1, predictor='auto', random_state=420,\n                reg_alpha=0.1, reg_lambda=1, ...),\n  'f1': 0.7085631349782293,\n  'aur': 0.7604922771937458,\n  'acc': 0.6895485466914039,\n  'aupr': 0.7642929720631332},\n '256_40_40_deepwalk': {'clf': XGBClassifier(base_score=0.5, booster='gbtree', callbacks=None,\n                colsample_bylevel=1, colsample_bynode=1, colsample_bytree=0.9,\n                early_stopping_rounds=None, enable_categorical=False,\n                eval_metric='auc', gamma=0.5, gpu_id=-1, grow_policy='depthwise',\n                importance_type=None, interaction_constraints='',\n                learning_rate=0.01, max_bin=256, max_cat_to_onehot=4,\n                max_delta_step=0, max_depth=6, max_leaves=0, min_child_weight=5,\n                missing=nan, monotone_constraints='()', n_estimators=1550,\n                n_jobs=0, num_parallel_tree=1, predictor='auto', random_state=420,\n                reg_alpha=0.1, reg_lambda=1, ...),\n  'f1': 0.7143264840182647,\n  'aur': 0.7708987624513206,\n  'acc': 0.6904761904761905,\n  'aupr': 0.7720122091371571},\n '512_20_20_deepwalk': {'clf': XGBClassifier(base_score=0.5, booster='gbtree', callbacks=None,\n                colsample_bylevel=1, colsample_bynode=1, colsample_bytree=0.9,\n                early_stopping_rounds=None, enable_categorical=False,\n                eval_metric='auc', gamma=0.5, gpu_id=-1, grow_policy='depthwise',\n                importance_type=None, interaction_constraints='',\n                learning_rate=0.01, max_bin=256, max_cat_to_onehot=4,\n                max_delta_step=0, max_depth=6, max_leaves=0, min_child_weight=5,\n                missing=nan, monotone_constraints='()', n_estimators=1550,\n                n_jobs=0, num_parallel_tree=1, predictor='auto', random_state=420,\n                reg_alpha=0.1, reg_lambda=1, ...),\n  'f1': 0.706988858341774,\n  'aur': 0.7600353585336932,\n  'acc': 0.6869202226345084,\n  'aupr': 0.7615698749250479},\n '64_80_20_deepwalk': {'clf': XGBClassifier(base_score=0.5, booster='gbtree', callbacks=None,\n                colsample_bylevel=1, colsample_bynode=1, colsample_bytree=0.9,\n                early_stopping_rounds=None, enable_categorical=False,\n                eval_metric='auc', gamma=0.5, gpu_id=-1, grow_policy='depthwise',\n                importance_type=None, interaction_constraints='',\n                learning_rate=0.01, max_bin=256, max_cat_to_onehot=4,\n                max_delta_step=0, max_depth=6, max_leaves=0, min_child_weight=5,\n                missing=nan, monotone_constraints='()', n_estimators=1550,\n                n_jobs=0, num_parallel_tree=1, predictor='auto', random_state=420,\n                reg_alpha=0.1, reg_lambda=1, ...),\n  'f1': 0.7239976757699014,\n  'aur': 0.7876412119949383,\n  'acc': 0.7062461348175634,\n  'aupr': 0.7898232658184008},\n '256_40_20_deepwalk': {'clf': XGBClassifier(base_score=0.5, booster='gbtree', callbacks=None,\n                colsample_bylevel=1, colsample_bynode=1, colsample_bytree=0.9,\n                early_stopping_rounds=None, enable_categorical=False,\n                eval_metric='auc', gamma=0.5, gpu_id=-1, grow_policy='depthwise',\n                importance_type=None, interaction_constraints='',\n                learning_rate=0.01, max_bin=256, max_cat_to_onehot=4,\n                max_delta_step=0, max_depth=6, max_leaves=0, min_child_weight=5,\n                missing=nan, monotone_constraints='()', n_estimators=1550,\n                n_jobs=0, num_parallel_tree=1, predictor='auto', random_state=420,\n                reg_alpha=0.1, reg_lambda=1, ...),\n  'f1': 0.7204161248374512,\n  'aur': 0.7752889924349897,\n  'acc': 0.700834879406308,\n  'aupr': 0.7731543058461858},\n '128_40_80_deepwalk': {'clf': XGBClassifier(base_score=0.5, booster='gbtree', callbacks=None,\n                colsample_bylevel=1, colsample_bynode=1, colsample_bytree=0.9,\n                early_stopping_rounds=None, enable_categorical=False,\n                eval_metric='auc', gamma=0.5, gpu_id=-1, grow_policy='depthwise',\n                importance_type=None, interaction_constraints='',\n                learning_rate=0.01, max_bin=256, max_cat_to_onehot=4,\n                max_delta_step=0, max_depth=6, max_leaves=0, min_child_weight=5,\n                missing=nan, monotone_constraints='()', n_estimators=1550,\n                n_jobs=0, num_parallel_tree=1, predictor='auto', random_state=420,\n                reg_alpha=0.1, reg_lambda=1, ...),\n  'f1': 0.715112912565142,\n  'aur': 0.7707580100560405,\n  'acc': 0.6957328385899815,\n  'aupr': 0.7664842257083065},\n '64_80_40_deepwalk': {'clf': XGBClassifier(base_score=0.5, booster='gbtree', callbacks=None,\n                colsample_bylevel=1, colsample_bynode=1, colsample_bytree=0.9,\n                early_stopping_rounds=None, enable_categorical=False,\n                eval_metric='auc', gamma=0.5, gpu_id=-1, grow_policy='depthwise',\n                importance_type=None, interaction_constraints='',\n                learning_rate=0.01, max_bin=256, max_cat_to_onehot=4,\n                max_delta_step=0, max_depth=6, max_leaves=0, min_child_weight=5,\n                missing=nan, monotone_constraints='()', n_estimators=1550,\n                n_jobs=0, num_parallel_tree=1, predictor='auto', random_state=420,\n                reg_alpha=0.1, reg_lambda=1, ...),\n  'f1': 0.7299771167048054,\n  'aur': 0.7882658366552174,\n  'acc': 0.7081014223871367,\n  'aupr': 0.791250970417981},\n '512_20_40_deepwalk': {'clf': XGBClassifier(base_score=0.5, booster='gbtree', callbacks=None,\n                colsample_bylevel=1, colsample_bynode=1, colsample_bytree=0.9,\n                early_stopping_rounds=None, enable_categorical=False,\n                eval_metric='auc', gamma=0.5, gpu_id=-1, grow_policy='depthwise',\n                importance_type=None, interaction_constraints='',\n                learning_rate=0.01, max_bin=256, max_cat_to_onehot=4,\n                max_delta_step=0, max_depth=6, max_leaves=0, min_child_weight=5,\n                missing=nan, monotone_constraints='()', n_estimators=1550,\n                n_jobs=0, num_parallel_tree=1, predictor='auto', random_state=420,\n                reg_alpha=0.1, reg_lambda=1, ...),\n  'f1': 0.718313953488372,\n  'aur': 0.7732305125914986,\n  'acc': 0.7003710575139147,\n  'aupr': 0.7743547826787894},\n '64_20_80_deepwalk': {'clf': XGBClassifier(base_score=0.5, booster='gbtree', callbacks=None,\n                colsample_bylevel=1, colsample_bynode=1, colsample_bytree=0.9,\n                early_stopping_rounds=None, enable_categorical=False,\n                eval_metric='auc', gamma=0.5, gpu_id=-1, grow_policy='depthwise',\n                importance_type=None, interaction_constraints='',\n                learning_rate=0.01, max_bin=256, max_cat_to_onehot=4,\n                max_delta_step=0, max_depth=6, max_leaves=0, min_child_weight=5,\n                missing=nan, monotone_constraints='()', n_estimators=1550,\n                n_jobs=0, num_parallel_tree=1, predictor='auto', random_state=420,\n                reg_alpha=0.1, reg_lambda=1, ...),\n  'f1': 0.7243071593533488,\n  'aur': 0.7829703389700678,\n  'acc': 0.704700061842919,\n  'aupr': 0.7865203419692889},\n '512_80_80_deepwalk': {'clf': XGBClassifier(base_score=0.5, booster='gbtree', callbacks=None,\n                colsample_bylevel=1, colsample_bynode=1, colsample_bytree=0.9,\n                early_stopping_rounds=None, enable_categorical=False,\n                eval_metric='auc', gamma=0.5, gpu_id=-1, grow_policy='depthwise',\n                importance_type=None, interaction_constraints='',\n                learning_rate=0.01, max_bin=256, max_cat_to_onehot=4,\n                max_delta_step=0, max_depth=6, max_leaves=0, min_child_weight=5,\n                missing=nan, monotone_constraints='()', n_estimators=1550,\n                n_jobs=0, num_parallel_tree=1, predictor='auto', random_state=420,\n                reg_alpha=0.1, reg_lambda=1, ...),\n  'f1': 0.7343147063027011,\n  'aur': 0.7838878147874657,\n  'acc': 0.7125850340136054,\n  'aupr': 0.7799848349539976},\n '512_80_20_deepwalk': {'clf': XGBClassifier(base_score=0.5, booster='gbtree', callbacks=None,\n                colsample_bylevel=1, colsample_bynode=1, colsample_bytree=0.9,\n                early_stopping_rounds=None, enable_categorical=False,\n                eval_metric='auc', gamma=0.5, gpu_id=-1, grow_policy='depthwise',\n                importance_type=None, interaction_constraints='',\n                learning_rate=0.01, max_bin=256, max_cat_to_onehot=4,\n                max_delta_step=0, max_depth=6, max_leaves=0, min_child_weight=5,\n                missing=nan, monotone_constraints='()', n_estimators=1550,\n                n_jobs=0, num_parallel_tree=1, predictor='auto', random_state=420,\n                reg_alpha=0.1, reg_lambda=1, ...),\n  'f1': 0.723160606928142,\n  'aur': 0.7767113576267498,\n  'acc': 0.7009894867037724,\n  'aupr': 0.7752635004265764},\n '64_20_20_deepwalk': {'clf': XGBClassifier(base_score=0.5, booster='gbtree', callbacks=None,\n                colsample_bylevel=1, colsample_bynode=1, colsample_bytree=0.9,\n                early_stopping_rounds=None, enable_categorical=False,\n                eval_metric='auc', gamma=0.5, gpu_id=-1, grow_policy='depthwise',\n                importance_type=None, interaction_constraints='',\n                learning_rate=0.01, max_bin=256, max_cat_to_onehot=4,\n                max_delta_step=0, max_depth=6, max_leaves=0, min_child_weight=5,\n                missing=nan, monotone_constraints='()', n_estimators=1550,\n                n_jobs=0, num_parallel_tree=1, predictor='auto', random_state=420,\n                reg_alpha=0.1, reg_lambda=1, ...),\n  'f1': 0.7207886343867789,\n  'aur': 0.7772828410765662,\n  'acc': 0.7022263450834879,\n  'aupr': 0.7828447214310262},\n '128_40_20_deepwalk': {'clf': XGBClassifier(base_score=0.5, booster='gbtree', callbacks=None,\n                colsample_bylevel=1, colsample_bynode=1, colsample_bytree=0.9,\n                early_stopping_rounds=None, enable_categorical=False,\n                eval_metric='auc', gamma=0.5, gpu_id=-1, grow_policy='depthwise',\n                importance_type=None, interaction_constraints='',\n                learning_rate=0.01, max_bin=256, max_cat_to_onehot=4,\n                max_delta_step=0, max_depth=6, max_leaves=0, min_child_weight=5,\n                missing=nan, monotone_constraints='()', n_estimators=1550,\n                n_jobs=0, num_parallel_tree=1, predictor='auto', random_state=420,\n                reg_alpha=0.1, reg_lambda=1, ...),\n  'f1': 0.7187904967602591,\n  'aur': 0.7724679122838733,\n  'acc': 0.698051948051948,\n  'aupr': 0.768755597937454},\n '256_40_80_deepwalk': {'clf': XGBClassifier(base_score=0.5, booster='gbtree', callbacks=None,\n                colsample_bylevel=1, colsample_bynode=1, colsample_bytree=0.9,\n                early_stopping_rounds=None, enable_categorical=False,\n                eval_metric='auc', gamma=0.5, gpu_id=-1, grow_policy='depthwise',\n                importance_type=None, interaction_constraints='',\n                learning_rate=0.01, max_bin=256, max_cat_to_onehot=4,\n                max_delta_step=0, max_depth=6, max_leaves=0, min_child_weight=5,\n                missing=nan, monotone_constraints='()', n_estimators=1550,\n                n_jobs=0, num_parallel_tree=1, predictor='auto', random_state=420,\n                reg_alpha=0.1, reg_lambda=1, ...),\n  'f1': 0.7163018433179724,\n  'aur': 0.7734174643274065,\n  'acc': 0.6954236239950525,\n  'aupr': 0.7715020487620344},\n '64_80_80_deepwalk': {'clf': XGBClassifier(base_score=0.5, booster='gbtree', callbacks=None,\n                colsample_bylevel=1, colsample_bynode=1, colsample_bytree=0.9,\n                early_stopping_rounds=None, enable_categorical=False,\n                eval_metric='auc', gamma=0.5, gpu_id=-1, grow_policy='depthwise',\n                importance_type=None, interaction_constraints='',\n                learning_rate=0.01, max_bin=256, max_cat_to_onehot=4,\n                max_delta_step=0, max_depth=6, max_leaves=0, min_child_weight=5,\n                missing=nan, monotone_constraints='()', n_estimators=1550,\n                n_jobs=0, num_parallel_tree=1, predictor='auto', random_state=420,\n                reg_alpha=0.1, reg_lambda=1, ...),\n  'f1': 0.7303419419997115,\n  'aur': 0.7925981379319854,\n  'acc': 0.711038961038961,\n  'aupr': 0.795650113413964},\n '512_20_80_deepwalk': {'clf': XGBClassifier(base_score=0.5, booster='gbtree', callbacks=None,\n                colsample_bylevel=1, colsample_bynode=1, colsample_bytree=0.9,\n                early_stopping_rounds=None, enable_categorical=False,\n                eval_metric='auc', gamma=0.5, gpu_id=-1, grow_policy='depthwise',\n                importance_type=None, interaction_constraints='',\n                learning_rate=0.01, max_bin=256, max_cat_to_onehot=4,\n                max_delta_step=0, max_depth=6, max_leaves=0, min_child_weight=5,\n                missing=nan, monotone_constraints='()', n_estimators=1550,\n                n_jobs=0, num_parallel_tree=1, predictor='auto', random_state=420,\n                reg_alpha=0.1, reg_lambda=1, ...),\n  'f1': 0.7250859106529209,\n  'aur': 0.7778907094993122,\n  'acc': 0.7031539888682746,\n  'aupr': 0.7748060524355518},\n '64_20_40_deepwalk': {'clf': XGBClassifier(base_score=0.5, booster='gbtree', callbacks=None,\n                colsample_bylevel=1, colsample_bynode=1, colsample_bytree=0.9,\n                early_stopping_rounds=None, enable_categorical=False,\n                eval_metric='auc', gamma=0.5, gpu_id=-1, grow_policy='depthwise',\n                importance_type=None, interaction_constraints='',\n                learning_rate=0.01, max_bin=256, max_cat_to_onehot=4,\n                max_delta_step=0, max_depth=6, max_leaves=0, min_child_weight=5,\n                missing=nan, monotone_constraints='()', n_estimators=1550,\n                n_jobs=0, num_parallel_tree=1, predictor='auto', random_state=420,\n                reg_alpha=0.1, reg_lambda=1, ...),\n  'f1': 0.7296087772484481,\n  'aur': 0.7858736204350263,\n  'acc': 0.7104205318491033,\n  'aupr': 0.7877978726196702},\n '512_80_40_deepwalk': {'clf': XGBClassifier(base_score=0.5, booster='gbtree', callbacks=None,\n                colsample_bylevel=1, colsample_bynode=1, colsample_bytree=0.9,\n                early_stopping_rounds=None, enable_categorical=False,\n                eval_metric='auc', gamma=0.5, gpu_id=-1, grow_policy='depthwise',\n                importance_type=None, interaction_constraints='',\n                learning_rate=0.01, max_bin=256, max_cat_to_onehot=4,\n                max_delta_step=0, max_depth=6, max_leaves=0, min_child_weight=5,\n                missing=nan, monotone_constraints='()', n_estimators=1550,\n                n_jobs=0, num_parallel_tree=1, predictor='auto', random_state=420,\n                reg_alpha=0.1, reg_lambda=1, ...),\n  'f1': 0.7362385321100916,\n  'aur': 0.7854141644018616,\n  'acc': 0.7155225726654298,\n  'aupr': 0.7812102294298073},\n '128_40_40_deepwalk': {'clf': XGBClassifier(base_score=0.5, booster='gbtree', callbacks=None,\n                colsample_bylevel=1, colsample_bynode=1, colsample_bytree=0.9,\n                early_stopping_rounds=None, enable_categorical=False,\n                eval_metric='auc', gamma=0.5, gpu_id=-1, grow_policy='depthwise',\n                importance_type=None, interaction_constraints='',\n                learning_rate=0.01, max_bin=256, max_cat_to_onehot=4,\n                max_delta_step=0, max_depth=6, max_leaves=0, min_child_weight=5,\n                missing=nan, monotone_constraints='()', n_estimators=1550,\n                n_jobs=0, num_parallel_tree=1, predictor='auto', random_state=420,\n                reg_alpha=0.1, reg_lambda=1, ...),\n  'f1': 0.7130334818221008,\n  'aur': 0.7697289855716347,\n  'acc': 0.6912492269635127,\n  'aupr': 0.7676491284791137}}"
     },
     "execution_count": 9,
     "metadata": {},
     "output_type": "execute_result"
    }
   ],
   "source": [
    "models"
   ],
   "metadata": {
    "collapsed": false,
    "ExecuteTime": {
     "end_time": "2023-05-23T06:49:28.603267Z",
     "start_time": "2023-05-23T06:49:28.544223Z"
    }
   }
  },
  {
   "cell_type": "code",
   "execution_count": 15,
   "outputs": [
    {
     "ename": "KeyboardInterrupt",
     "evalue": "",
     "output_type": "error",
     "traceback": [
      "\u001B[0;31m---------------------------------------------------------------------------\u001B[0m",
      "\u001B[0;31mKeyboardInterrupt\u001B[0m                         Traceback (most recent call last)",
      "Cell \u001B[0;32mIn [15], line 29\u001B[0m\n\u001B[1;32m     27\u001B[0m key_index \u001B[38;5;241m=\u001B[39m params[\u001B[38;5;124m'\u001B[39m\u001B[38;5;124md\u001B[39m\u001B[38;5;124m'\u001B[39m] \u001B[38;5;241m+\u001B[39m \u001B[38;5;124m'\u001B[39m\u001B[38;5;124m_\u001B[39m\u001B[38;5;124m'\u001B[39m \u001B[38;5;241m+\u001B[39m params[\u001B[38;5;124m'\u001B[39m\u001B[38;5;124ml\u001B[39m\u001B[38;5;124m'\u001B[39m] \u001B[38;5;241m+\u001B[39m \u001B[38;5;124m'\u001B[39m\u001B[38;5;124m_\u001B[39m\u001B[38;5;124m'\u001B[39m \u001B[38;5;241m+\u001B[39m params[\u001B[38;5;124m'\u001B[39m\u001B[38;5;124mn\u001B[39m\u001B[38;5;124m'\u001B[39m] \u001B[38;5;241m+\u001B[39m \u001B[38;5;124m'\u001B[39m\u001B[38;5;124m_deepwalk\u001B[39m\u001B[38;5;124m'\u001B[39m\n\u001B[1;32m     28\u001B[0m classifier \u001B[38;5;241m=\u001B[39m models[key_index][\u001B[38;5;124m'\u001B[39m\u001B[38;5;124mclf\u001B[39m\u001B[38;5;124m'\u001B[39m]\n\u001B[0;32m---> 29\u001B[0m cv_scores \u001B[38;5;241m=\u001B[39m \u001B[43mcross_validate\u001B[49m\u001B[43m(\u001B[49m\u001B[43mclassifier\u001B[49m\u001B[43m,\u001B[49m\u001B[43m \u001B[49m\u001B[43mX\u001B[49m\u001B[43m,\u001B[49m\u001B[43m \u001B[49m\u001B[43my\u001B[49m\u001B[43m,\u001B[49m\u001B[43m \u001B[49m\u001B[43mcv\u001B[49m\u001B[38;5;241;43m=\u001B[39;49m\u001B[38;5;241;43m5\u001B[39;49m\u001B[43m,\u001B[49m\u001B[43m \u001B[49m\u001B[43mscoring\u001B[49m\u001B[38;5;241;43m=\u001B[39;49m\u001B[43mscoring\u001B[49m\u001B[43m)\u001B[49m\n\u001B[1;32m     30\u001B[0m result_acc[(params[\u001B[38;5;124m'\u001B[39m\u001B[38;5;124md\u001B[39m\u001B[38;5;124m'\u001B[39m], params[\u001B[38;5;124m'\u001B[39m\u001B[38;5;124ml\u001B[39m\u001B[38;5;124m'\u001B[39m], params[\u001B[38;5;124m'\u001B[39m\u001B[38;5;124mn\u001B[39m\u001B[38;5;124m'\u001B[39m])] \u001B[38;5;241m=\u001B[39m cv_scores[\u001B[38;5;124m'\u001B[39m\u001B[38;5;124maccuracy\u001B[39m\u001B[38;5;124m'\u001B[39m]\n\u001B[1;32m     31\u001B[0m result_f1[(params[\u001B[38;5;124m'\u001B[39m\u001B[38;5;124md\u001B[39m\u001B[38;5;124m'\u001B[39m], params[\u001B[38;5;124m'\u001B[39m\u001B[38;5;124ml\u001B[39m\u001B[38;5;124m'\u001B[39m], params[\u001B[38;5;124m'\u001B[39m\u001B[38;5;124mn\u001B[39m\u001B[38;5;124m'\u001B[39m])] \u001B[38;5;241m=\u001B[39m cv_scores[\u001B[38;5;124m'\u001B[39m\u001B[38;5;124mf1\u001B[39m\u001B[38;5;124m'\u001B[39m]\n",
      "File \u001B[0;32m~/opt/miniforge/envs/riskgene/lib/python3.8/site-packages/sklearn/model_selection/_validation.py:266\u001B[0m, in \u001B[0;36mcross_validate\u001B[0;34m(estimator, X, y, groups, scoring, cv, n_jobs, verbose, fit_params, pre_dispatch, return_train_score, return_estimator, error_score)\u001B[0m\n\u001B[1;32m    263\u001B[0m \u001B[38;5;66;03m# We clone the estimator to make sure that all the folds are\u001B[39;00m\n\u001B[1;32m    264\u001B[0m \u001B[38;5;66;03m# independent, and that it is pickle-able.\u001B[39;00m\n\u001B[1;32m    265\u001B[0m parallel \u001B[38;5;241m=\u001B[39m Parallel(n_jobs\u001B[38;5;241m=\u001B[39mn_jobs, verbose\u001B[38;5;241m=\u001B[39mverbose, pre_dispatch\u001B[38;5;241m=\u001B[39mpre_dispatch)\n\u001B[0;32m--> 266\u001B[0m results \u001B[38;5;241m=\u001B[39m \u001B[43mparallel\u001B[49m\u001B[43m(\u001B[49m\n\u001B[1;32m    267\u001B[0m \u001B[43m    \u001B[49m\u001B[43mdelayed\u001B[49m\u001B[43m(\u001B[49m\u001B[43m_fit_and_score\u001B[49m\u001B[43m)\u001B[49m\u001B[43m(\u001B[49m\n\u001B[1;32m    268\u001B[0m \u001B[43m        \u001B[49m\u001B[43mclone\u001B[49m\u001B[43m(\u001B[49m\u001B[43mestimator\u001B[49m\u001B[43m)\u001B[49m\u001B[43m,\u001B[49m\n\u001B[1;32m    269\u001B[0m \u001B[43m        \u001B[49m\u001B[43mX\u001B[49m\u001B[43m,\u001B[49m\n\u001B[1;32m    270\u001B[0m \u001B[43m        \u001B[49m\u001B[43my\u001B[49m\u001B[43m,\u001B[49m\n\u001B[1;32m    271\u001B[0m \u001B[43m        \u001B[49m\u001B[43mscorers\u001B[49m\u001B[43m,\u001B[49m\n\u001B[1;32m    272\u001B[0m \u001B[43m        \u001B[49m\u001B[43mtrain\u001B[49m\u001B[43m,\u001B[49m\n\u001B[1;32m    273\u001B[0m \u001B[43m        \u001B[49m\u001B[43mtest\u001B[49m\u001B[43m,\u001B[49m\n\u001B[1;32m    274\u001B[0m \u001B[43m        \u001B[49m\u001B[43mverbose\u001B[49m\u001B[43m,\u001B[49m\n\u001B[1;32m    275\u001B[0m \u001B[43m        \u001B[49m\u001B[38;5;28;43;01mNone\u001B[39;49;00m\u001B[43m,\u001B[49m\n\u001B[1;32m    276\u001B[0m \u001B[43m        \u001B[49m\u001B[43mfit_params\u001B[49m\u001B[43m,\u001B[49m\n\u001B[1;32m    277\u001B[0m \u001B[43m        \u001B[49m\u001B[43mreturn_train_score\u001B[49m\u001B[38;5;241;43m=\u001B[39;49m\u001B[43mreturn_train_score\u001B[49m\u001B[43m,\u001B[49m\n\u001B[1;32m    278\u001B[0m \u001B[43m        \u001B[49m\u001B[43mreturn_times\u001B[49m\u001B[38;5;241;43m=\u001B[39;49m\u001B[38;5;28;43;01mTrue\u001B[39;49;00m\u001B[43m,\u001B[49m\n\u001B[1;32m    279\u001B[0m \u001B[43m        \u001B[49m\u001B[43mreturn_estimator\u001B[49m\u001B[38;5;241;43m=\u001B[39;49m\u001B[43mreturn_estimator\u001B[49m\u001B[43m,\u001B[49m\n\u001B[1;32m    280\u001B[0m \u001B[43m        \u001B[49m\u001B[43merror_score\u001B[49m\u001B[38;5;241;43m=\u001B[39;49m\u001B[43merror_score\u001B[49m\u001B[43m,\u001B[49m\n\u001B[1;32m    281\u001B[0m \u001B[43m    \u001B[49m\u001B[43m)\u001B[49m\n\u001B[1;32m    282\u001B[0m \u001B[43m    \u001B[49m\u001B[38;5;28;43;01mfor\u001B[39;49;00m\u001B[43m \u001B[49m\u001B[43mtrain\u001B[49m\u001B[43m,\u001B[49m\u001B[43m \u001B[49m\u001B[43mtest\u001B[49m\u001B[43m \u001B[49m\u001B[38;5;129;43;01min\u001B[39;49;00m\u001B[43m \u001B[49m\u001B[43mcv\u001B[49m\u001B[38;5;241;43m.\u001B[39;49m\u001B[43msplit\u001B[49m\u001B[43m(\u001B[49m\u001B[43mX\u001B[49m\u001B[43m,\u001B[49m\u001B[43m \u001B[49m\u001B[43my\u001B[49m\u001B[43m,\u001B[49m\u001B[43m \u001B[49m\u001B[43mgroups\u001B[49m\u001B[43m)\u001B[49m\n\u001B[1;32m    283\u001B[0m \u001B[43m\u001B[49m\u001B[43m)\u001B[49m\n\u001B[1;32m    285\u001B[0m _warn_or_raise_about_fit_failures(results, error_score)\n\u001B[1;32m    287\u001B[0m \u001B[38;5;66;03m# For callabe scoring, the return type is only know after calling. If the\u001B[39;00m\n\u001B[1;32m    288\u001B[0m \u001B[38;5;66;03m# return type is a dictionary, the error scores can now be inserted with\u001B[39;00m\n\u001B[1;32m    289\u001B[0m \u001B[38;5;66;03m# the correct key.\u001B[39;00m\n",
      "File \u001B[0;32m~/opt/miniforge/envs/riskgene/lib/python3.8/site-packages/joblib/parallel.py:1046\u001B[0m, in \u001B[0;36mParallel.__call__\u001B[0;34m(self, iterable)\u001B[0m\n\u001B[1;32m   1043\u001B[0m \u001B[38;5;28;01mif\u001B[39;00m \u001B[38;5;28mself\u001B[39m\u001B[38;5;241m.\u001B[39mdispatch_one_batch(iterator):\n\u001B[1;32m   1044\u001B[0m     \u001B[38;5;28mself\u001B[39m\u001B[38;5;241m.\u001B[39m_iterating \u001B[38;5;241m=\u001B[39m \u001B[38;5;28mself\u001B[39m\u001B[38;5;241m.\u001B[39m_original_iterator \u001B[38;5;129;01mis\u001B[39;00m \u001B[38;5;129;01mnot\u001B[39;00m \u001B[38;5;28;01mNone\u001B[39;00m\n\u001B[0;32m-> 1046\u001B[0m \u001B[38;5;28;01mwhile\u001B[39;00m \u001B[38;5;28;43mself\u001B[39;49m\u001B[38;5;241;43m.\u001B[39;49m\u001B[43mdispatch_one_batch\u001B[49m\u001B[43m(\u001B[49m\u001B[43miterator\u001B[49m\u001B[43m)\u001B[49m:\n\u001B[1;32m   1047\u001B[0m     \u001B[38;5;28;01mpass\u001B[39;00m\n\u001B[1;32m   1049\u001B[0m \u001B[38;5;28;01mif\u001B[39;00m pre_dispatch \u001B[38;5;241m==\u001B[39m \u001B[38;5;124m\"\u001B[39m\u001B[38;5;124mall\u001B[39m\u001B[38;5;124m\"\u001B[39m \u001B[38;5;129;01mor\u001B[39;00m n_jobs \u001B[38;5;241m==\u001B[39m \u001B[38;5;241m1\u001B[39m:\n\u001B[1;32m   1050\u001B[0m     \u001B[38;5;66;03m# The iterable was consumed all at once by the above for loop.\u001B[39;00m\n\u001B[1;32m   1051\u001B[0m     \u001B[38;5;66;03m# No need to wait for async callbacks to trigger to\u001B[39;00m\n\u001B[1;32m   1052\u001B[0m     \u001B[38;5;66;03m# consumption.\u001B[39;00m\n",
      "File \u001B[0;32m~/opt/miniforge/envs/riskgene/lib/python3.8/site-packages/joblib/parallel.py:861\u001B[0m, in \u001B[0;36mParallel.dispatch_one_batch\u001B[0;34m(self, iterator)\u001B[0m\n\u001B[1;32m    859\u001B[0m     \u001B[38;5;28;01mreturn\u001B[39;00m \u001B[38;5;28;01mFalse\u001B[39;00m\n\u001B[1;32m    860\u001B[0m \u001B[38;5;28;01melse\u001B[39;00m:\n\u001B[0;32m--> 861\u001B[0m     \u001B[38;5;28;43mself\u001B[39;49m\u001B[38;5;241;43m.\u001B[39;49m\u001B[43m_dispatch\u001B[49m\u001B[43m(\u001B[49m\u001B[43mtasks\u001B[49m\u001B[43m)\u001B[49m\n\u001B[1;32m    862\u001B[0m     \u001B[38;5;28;01mreturn\u001B[39;00m \u001B[38;5;28;01mTrue\u001B[39;00m\n",
      "File \u001B[0;32m~/opt/miniforge/envs/riskgene/lib/python3.8/site-packages/joblib/parallel.py:779\u001B[0m, in \u001B[0;36mParallel._dispatch\u001B[0;34m(self, batch)\u001B[0m\n\u001B[1;32m    777\u001B[0m \u001B[38;5;28;01mwith\u001B[39;00m \u001B[38;5;28mself\u001B[39m\u001B[38;5;241m.\u001B[39m_lock:\n\u001B[1;32m    778\u001B[0m     job_idx \u001B[38;5;241m=\u001B[39m \u001B[38;5;28mlen\u001B[39m(\u001B[38;5;28mself\u001B[39m\u001B[38;5;241m.\u001B[39m_jobs)\n\u001B[0;32m--> 779\u001B[0m     job \u001B[38;5;241m=\u001B[39m \u001B[38;5;28;43mself\u001B[39;49m\u001B[38;5;241;43m.\u001B[39;49m\u001B[43m_backend\u001B[49m\u001B[38;5;241;43m.\u001B[39;49m\u001B[43mapply_async\u001B[49m\u001B[43m(\u001B[49m\u001B[43mbatch\u001B[49m\u001B[43m,\u001B[49m\u001B[43m \u001B[49m\u001B[43mcallback\u001B[49m\u001B[38;5;241;43m=\u001B[39;49m\u001B[43mcb\u001B[49m\u001B[43m)\u001B[49m\n\u001B[1;32m    780\u001B[0m     \u001B[38;5;66;03m# A job can complete so quickly than its callback is\u001B[39;00m\n\u001B[1;32m    781\u001B[0m     \u001B[38;5;66;03m# called before we get here, causing self._jobs to\u001B[39;00m\n\u001B[1;32m    782\u001B[0m     \u001B[38;5;66;03m# grow. To ensure correct results ordering, .insert is\u001B[39;00m\n\u001B[1;32m    783\u001B[0m     \u001B[38;5;66;03m# used (rather than .append) in the following line\u001B[39;00m\n\u001B[1;32m    784\u001B[0m     \u001B[38;5;28mself\u001B[39m\u001B[38;5;241m.\u001B[39m_jobs\u001B[38;5;241m.\u001B[39minsert(job_idx, job)\n",
      "File \u001B[0;32m~/opt/miniforge/envs/riskgene/lib/python3.8/site-packages/joblib/_parallel_backends.py:208\u001B[0m, in \u001B[0;36mSequentialBackend.apply_async\u001B[0;34m(self, func, callback)\u001B[0m\n\u001B[1;32m    206\u001B[0m \u001B[38;5;28;01mdef\u001B[39;00m \u001B[38;5;21mapply_async\u001B[39m(\u001B[38;5;28mself\u001B[39m, func, callback\u001B[38;5;241m=\u001B[39m\u001B[38;5;28;01mNone\u001B[39;00m):\n\u001B[1;32m    207\u001B[0m     \u001B[38;5;124;03m\"\"\"Schedule a func to be run\"\"\"\u001B[39;00m\n\u001B[0;32m--> 208\u001B[0m     result \u001B[38;5;241m=\u001B[39m \u001B[43mImmediateResult\u001B[49m\u001B[43m(\u001B[49m\u001B[43mfunc\u001B[49m\u001B[43m)\u001B[49m\n\u001B[1;32m    209\u001B[0m     \u001B[38;5;28;01mif\u001B[39;00m callback:\n\u001B[1;32m    210\u001B[0m         callback(result)\n",
      "File \u001B[0;32m~/opt/miniforge/envs/riskgene/lib/python3.8/site-packages/joblib/_parallel_backends.py:572\u001B[0m, in \u001B[0;36mImmediateResult.__init__\u001B[0;34m(self, batch)\u001B[0m\n\u001B[1;32m    569\u001B[0m \u001B[38;5;28;01mdef\u001B[39;00m \u001B[38;5;21m__init__\u001B[39m(\u001B[38;5;28mself\u001B[39m, batch):\n\u001B[1;32m    570\u001B[0m     \u001B[38;5;66;03m# Don't delay the application, to avoid keeping the input\u001B[39;00m\n\u001B[1;32m    571\u001B[0m     \u001B[38;5;66;03m# arguments in memory\u001B[39;00m\n\u001B[0;32m--> 572\u001B[0m     \u001B[38;5;28mself\u001B[39m\u001B[38;5;241m.\u001B[39mresults \u001B[38;5;241m=\u001B[39m \u001B[43mbatch\u001B[49m\u001B[43m(\u001B[49m\u001B[43m)\u001B[49m\n",
      "File \u001B[0;32m~/opt/miniforge/envs/riskgene/lib/python3.8/site-packages/joblib/parallel.py:262\u001B[0m, in \u001B[0;36mBatchedCalls.__call__\u001B[0;34m(self)\u001B[0m\n\u001B[1;32m    258\u001B[0m \u001B[38;5;28;01mdef\u001B[39;00m \u001B[38;5;21m__call__\u001B[39m(\u001B[38;5;28mself\u001B[39m):\n\u001B[1;32m    259\u001B[0m     \u001B[38;5;66;03m# Set the default nested backend to self._backend but do not set the\u001B[39;00m\n\u001B[1;32m    260\u001B[0m     \u001B[38;5;66;03m# change the default number of processes to -1\u001B[39;00m\n\u001B[1;32m    261\u001B[0m     \u001B[38;5;28;01mwith\u001B[39;00m parallel_backend(\u001B[38;5;28mself\u001B[39m\u001B[38;5;241m.\u001B[39m_backend, n_jobs\u001B[38;5;241m=\u001B[39m\u001B[38;5;28mself\u001B[39m\u001B[38;5;241m.\u001B[39m_n_jobs):\n\u001B[0;32m--> 262\u001B[0m         \u001B[38;5;28;01mreturn\u001B[39;00m [func(\u001B[38;5;241m*\u001B[39margs, \u001B[38;5;241m*\u001B[39m\u001B[38;5;241m*\u001B[39mkwargs)\n\u001B[1;32m    263\u001B[0m                 \u001B[38;5;28;01mfor\u001B[39;00m func, args, kwargs \u001B[38;5;129;01min\u001B[39;00m \u001B[38;5;28mself\u001B[39m\u001B[38;5;241m.\u001B[39mitems]\n",
      "File \u001B[0;32m~/opt/miniforge/envs/riskgene/lib/python3.8/site-packages/joblib/parallel.py:262\u001B[0m, in \u001B[0;36m<listcomp>\u001B[0;34m(.0)\u001B[0m\n\u001B[1;32m    258\u001B[0m \u001B[38;5;28;01mdef\u001B[39;00m \u001B[38;5;21m__call__\u001B[39m(\u001B[38;5;28mself\u001B[39m):\n\u001B[1;32m    259\u001B[0m     \u001B[38;5;66;03m# Set the default nested backend to self._backend but do not set the\u001B[39;00m\n\u001B[1;32m    260\u001B[0m     \u001B[38;5;66;03m# change the default number of processes to -1\u001B[39;00m\n\u001B[1;32m    261\u001B[0m     \u001B[38;5;28;01mwith\u001B[39;00m parallel_backend(\u001B[38;5;28mself\u001B[39m\u001B[38;5;241m.\u001B[39m_backend, n_jobs\u001B[38;5;241m=\u001B[39m\u001B[38;5;28mself\u001B[39m\u001B[38;5;241m.\u001B[39m_n_jobs):\n\u001B[0;32m--> 262\u001B[0m         \u001B[38;5;28;01mreturn\u001B[39;00m [\u001B[43mfunc\u001B[49m\u001B[43m(\u001B[49m\u001B[38;5;241;43m*\u001B[39;49m\u001B[43margs\u001B[49m\u001B[43m,\u001B[49m\u001B[43m \u001B[49m\u001B[38;5;241;43m*\u001B[39;49m\u001B[38;5;241;43m*\u001B[39;49m\u001B[43mkwargs\u001B[49m\u001B[43m)\u001B[49m\n\u001B[1;32m    263\u001B[0m                 \u001B[38;5;28;01mfor\u001B[39;00m func, args, kwargs \u001B[38;5;129;01min\u001B[39;00m \u001B[38;5;28mself\u001B[39m\u001B[38;5;241m.\u001B[39mitems]\n",
      "File \u001B[0;32m~/opt/miniforge/envs/riskgene/lib/python3.8/site-packages/sklearn/utils/fixes.py:117\u001B[0m, in \u001B[0;36m_FuncWrapper.__call__\u001B[0;34m(self, *args, **kwargs)\u001B[0m\n\u001B[1;32m    115\u001B[0m \u001B[38;5;28;01mdef\u001B[39;00m \u001B[38;5;21m__call__\u001B[39m(\u001B[38;5;28mself\u001B[39m, \u001B[38;5;241m*\u001B[39margs, \u001B[38;5;241m*\u001B[39m\u001B[38;5;241m*\u001B[39mkwargs):\n\u001B[1;32m    116\u001B[0m     \u001B[38;5;28;01mwith\u001B[39;00m config_context(\u001B[38;5;241m*\u001B[39m\u001B[38;5;241m*\u001B[39m\u001B[38;5;28mself\u001B[39m\u001B[38;5;241m.\u001B[39mconfig):\n\u001B[0;32m--> 117\u001B[0m         \u001B[38;5;28;01mreturn\u001B[39;00m \u001B[38;5;28;43mself\u001B[39;49m\u001B[38;5;241;43m.\u001B[39;49m\u001B[43mfunction\u001B[49m\u001B[43m(\u001B[49m\u001B[38;5;241;43m*\u001B[39;49m\u001B[43margs\u001B[49m\u001B[43m,\u001B[49m\u001B[43m \u001B[49m\u001B[38;5;241;43m*\u001B[39;49m\u001B[38;5;241;43m*\u001B[39;49m\u001B[43mkwargs\u001B[49m\u001B[43m)\u001B[49m\n",
      "File \u001B[0;32m~/opt/miniforge/envs/riskgene/lib/python3.8/site-packages/sklearn/model_selection/_validation.py:686\u001B[0m, in \u001B[0;36m_fit_and_score\u001B[0;34m(estimator, X, y, scorer, train, test, verbose, parameters, fit_params, return_train_score, return_parameters, return_n_test_samples, return_times, return_estimator, split_progress, candidate_progress, error_score)\u001B[0m\n\u001B[1;32m    684\u001B[0m         estimator\u001B[38;5;241m.\u001B[39mfit(X_train, \u001B[38;5;241m*\u001B[39m\u001B[38;5;241m*\u001B[39mfit_params)\n\u001B[1;32m    685\u001B[0m     \u001B[38;5;28;01melse\u001B[39;00m:\n\u001B[0;32m--> 686\u001B[0m         \u001B[43mestimator\u001B[49m\u001B[38;5;241;43m.\u001B[39;49m\u001B[43mfit\u001B[49m\u001B[43m(\u001B[49m\u001B[43mX_train\u001B[49m\u001B[43m,\u001B[49m\u001B[43m \u001B[49m\u001B[43my_train\u001B[49m\u001B[43m,\u001B[49m\u001B[43m \u001B[49m\u001B[38;5;241;43m*\u001B[39;49m\u001B[38;5;241;43m*\u001B[39;49m\u001B[43mfit_params\u001B[49m\u001B[43m)\u001B[49m\n\u001B[1;32m    688\u001B[0m \u001B[38;5;28;01mexcept\u001B[39;00m \u001B[38;5;167;01mException\u001B[39;00m:\n\u001B[1;32m    689\u001B[0m     \u001B[38;5;66;03m# Note fit time as time until error\u001B[39;00m\n\u001B[1;32m    690\u001B[0m     fit_time \u001B[38;5;241m=\u001B[39m time\u001B[38;5;241m.\u001B[39mtime() \u001B[38;5;241m-\u001B[39m start_time\n",
      "File \u001B[0;32m~/opt/miniforge/envs/riskgene/lib/python3.8/site-packages/xgboost/core.py:575\u001B[0m, in \u001B[0;36m_deprecate_positional_args.<locals>.inner_f\u001B[0;34m(*args, **kwargs)\u001B[0m\n\u001B[1;32m    573\u001B[0m \u001B[38;5;28;01mfor\u001B[39;00m k, arg \u001B[38;5;129;01min\u001B[39;00m \u001B[38;5;28mzip\u001B[39m(sig\u001B[38;5;241m.\u001B[39mparameters, args):\n\u001B[1;32m    574\u001B[0m     kwargs[k] \u001B[38;5;241m=\u001B[39m arg\n\u001B[0;32m--> 575\u001B[0m \u001B[38;5;28;01mreturn\u001B[39;00m \u001B[43mf\u001B[49m\u001B[43m(\u001B[49m\u001B[38;5;241;43m*\u001B[39;49m\u001B[38;5;241;43m*\u001B[39;49m\u001B[43mkwargs\u001B[49m\u001B[43m)\u001B[49m\n",
      "File \u001B[0;32m~/opt/miniforge/envs/riskgene/lib/python3.8/site-packages/xgboost/sklearn.py:1400\u001B[0m, in \u001B[0;36mXGBClassifier.fit\u001B[0;34m(self, X, y, sample_weight, base_margin, eval_set, eval_metric, early_stopping_rounds, verbose, xgb_model, sample_weight_eval_set, base_margin_eval_set, feature_weights, callbacks)\u001B[0m\n\u001B[1;32m   1379\u001B[0m model, metric, params, early_stopping_rounds, callbacks \u001B[38;5;241m=\u001B[39m \u001B[38;5;28mself\u001B[39m\u001B[38;5;241m.\u001B[39m_configure_fit(\n\u001B[1;32m   1380\u001B[0m     xgb_model, eval_metric, params, early_stopping_rounds, callbacks\n\u001B[1;32m   1381\u001B[0m )\n\u001B[1;32m   1382\u001B[0m train_dmatrix, evals \u001B[38;5;241m=\u001B[39m _wrap_evaluation_matrices(\n\u001B[1;32m   1383\u001B[0m     missing\u001B[38;5;241m=\u001B[39m\u001B[38;5;28mself\u001B[39m\u001B[38;5;241m.\u001B[39mmissing,\n\u001B[1;32m   1384\u001B[0m     X\u001B[38;5;241m=\u001B[39mX,\n\u001B[0;32m   (...)\u001B[0m\n\u001B[1;32m   1397\u001B[0m     enable_categorical\u001B[38;5;241m=\u001B[39m\u001B[38;5;28mself\u001B[39m\u001B[38;5;241m.\u001B[39menable_categorical,\n\u001B[1;32m   1398\u001B[0m )\n\u001B[0;32m-> 1400\u001B[0m \u001B[38;5;28mself\u001B[39m\u001B[38;5;241m.\u001B[39m_Booster \u001B[38;5;241m=\u001B[39m \u001B[43mtrain\u001B[49m\u001B[43m(\u001B[49m\n\u001B[1;32m   1401\u001B[0m \u001B[43m    \u001B[49m\u001B[43mparams\u001B[49m\u001B[43m,\u001B[49m\n\u001B[1;32m   1402\u001B[0m \u001B[43m    \u001B[49m\u001B[43mtrain_dmatrix\u001B[49m\u001B[43m,\u001B[49m\n\u001B[1;32m   1403\u001B[0m \u001B[43m    \u001B[49m\u001B[38;5;28;43mself\u001B[39;49m\u001B[38;5;241;43m.\u001B[39;49m\u001B[43mget_num_boosting_rounds\u001B[49m\u001B[43m(\u001B[49m\u001B[43m)\u001B[49m\u001B[43m,\u001B[49m\n\u001B[1;32m   1404\u001B[0m \u001B[43m    \u001B[49m\u001B[43mevals\u001B[49m\u001B[38;5;241;43m=\u001B[39;49m\u001B[43mevals\u001B[49m\u001B[43m,\u001B[49m\n\u001B[1;32m   1405\u001B[0m \u001B[43m    \u001B[49m\u001B[43mearly_stopping_rounds\u001B[49m\u001B[38;5;241;43m=\u001B[39;49m\u001B[43mearly_stopping_rounds\u001B[49m\u001B[43m,\u001B[49m\n\u001B[1;32m   1406\u001B[0m \u001B[43m    \u001B[49m\u001B[43mevals_result\u001B[49m\u001B[38;5;241;43m=\u001B[39;49m\u001B[43mevals_result\u001B[49m\u001B[43m,\u001B[49m\n\u001B[1;32m   1407\u001B[0m \u001B[43m    \u001B[49m\u001B[43mobj\u001B[49m\u001B[38;5;241;43m=\u001B[39;49m\u001B[43mobj\u001B[49m\u001B[43m,\u001B[49m\n\u001B[1;32m   1408\u001B[0m \u001B[43m    \u001B[49m\u001B[43mcustom_metric\u001B[49m\u001B[38;5;241;43m=\u001B[39;49m\u001B[43mmetric\u001B[49m\u001B[43m,\u001B[49m\n\u001B[1;32m   1409\u001B[0m \u001B[43m    \u001B[49m\u001B[43mverbose_eval\u001B[49m\u001B[38;5;241;43m=\u001B[39;49m\u001B[43mverbose\u001B[49m\u001B[43m,\u001B[49m\n\u001B[1;32m   1410\u001B[0m \u001B[43m    \u001B[49m\u001B[43mxgb_model\u001B[49m\u001B[38;5;241;43m=\u001B[39;49m\u001B[43mmodel\u001B[49m\u001B[43m,\u001B[49m\n\u001B[1;32m   1411\u001B[0m \u001B[43m    \u001B[49m\u001B[43mcallbacks\u001B[49m\u001B[38;5;241;43m=\u001B[39;49m\u001B[43mcallbacks\u001B[49m\u001B[43m,\u001B[49m\n\u001B[1;32m   1412\u001B[0m \u001B[43m\u001B[49m\u001B[43m)\u001B[49m\n\u001B[1;32m   1414\u001B[0m \u001B[38;5;28;01mif\u001B[39;00m \u001B[38;5;129;01mnot\u001B[39;00m callable(\u001B[38;5;28mself\u001B[39m\u001B[38;5;241m.\u001B[39mobjective):\n\u001B[1;32m   1415\u001B[0m     \u001B[38;5;28mself\u001B[39m\u001B[38;5;241m.\u001B[39mobjective \u001B[38;5;241m=\u001B[39m params[\u001B[38;5;124m\"\u001B[39m\u001B[38;5;124mobjective\u001B[39m\u001B[38;5;124m\"\u001B[39m]\n",
      "File \u001B[0;32m~/opt/miniforge/envs/riskgene/lib/python3.8/site-packages/xgboost/core.py:575\u001B[0m, in \u001B[0;36m_deprecate_positional_args.<locals>.inner_f\u001B[0;34m(*args, **kwargs)\u001B[0m\n\u001B[1;32m    573\u001B[0m \u001B[38;5;28;01mfor\u001B[39;00m k, arg \u001B[38;5;129;01min\u001B[39;00m \u001B[38;5;28mzip\u001B[39m(sig\u001B[38;5;241m.\u001B[39mparameters, args):\n\u001B[1;32m    574\u001B[0m     kwargs[k] \u001B[38;5;241m=\u001B[39m arg\n\u001B[0;32m--> 575\u001B[0m \u001B[38;5;28;01mreturn\u001B[39;00m \u001B[43mf\u001B[49m\u001B[43m(\u001B[49m\u001B[38;5;241;43m*\u001B[39;49m\u001B[38;5;241;43m*\u001B[39;49m\u001B[43mkwargs\u001B[49m\u001B[43m)\u001B[49m\n",
      "File \u001B[0;32m~/opt/miniforge/envs/riskgene/lib/python3.8/site-packages/xgboost/training.py:181\u001B[0m, in \u001B[0;36mtrain\u001B[0;34m(params, dtrain, num_boost_round, evals, obj, feval, maximize, early_stopping_rounds, evals_result, verbose_eval, xgb_model, callbacks, custom_metric)\u001B[0m\n\u001B[1;32m    179\u001B[0m \u001B[38;5;28;01mif\u001B[39;00m cb_container\u001B[38;5;241m.\u001B[39mbefore_iteration(bst, i, dtrain, evals):\n\u001B[1;32m    180\u001B[0m     \u001B[38;5;28;01mbreak\u001B[39;00m\n\u001B[0;32m--> 181\u001B[0m \u001B[43mbst\u001B[49m\u001B[38;5;241;43m.\u001B[39;49m\u001B[43mupdate\u001B[49m\u001B[43m(\u001B[49m\u001B[43mdtrain\u001B[49m\u001B[43m,\u001B[49m\u001B[43m \u001B[49m\u001B[43mi\u001B[49m\u001B[43m,\u001B[49m\u001B[43m \u001B[49m\u001B[43mobj\u001B[49m\u001B[43m)\u001B[49m\n\u001B[1;32m    182\u001B[0m \u001B[38;5;28;01mif\u001B[39;00m cb_container\u001B[38;5;241m.\u001B[39mafter_iteration(bst, i, dtrain, evals):\n\u001B[1;32m    183\u001B[0m     \u001B[38;5;28;01mbreak\u001B[39;00m\n",
      "File \u001B[0;32m~/opt/miniforge/envs/riskgene/lib/python3.8/site-packages/xgboost/core.py:1778\u001B[0m, in \u001B[0;36mBooster.update\u001B[0;34m(self, dtrain, iteration, fobj)\u001B[0m\n\u001B[1;32m   1775\u001B[0m \u001B[38;5;28mself\u001B[39m\u001B[38;5;241m.\u001B[39m_validate_features(dtrain)\n\u001B[1;32m   1777\u001B[0m \u001B[38;5;28;01mif\u001B[39;00m fobj \u001B[38;5;129;01mis\u001B[39;00m \u001B[38;5;28;01mNone\u001B[39;00m:\n\u001B[0;32m-> 1778\u001B[0m     _check_call(\u001B[43m_LIB\u001B[49m\u001B[38;5;241;43m.\u001B[39;49m\u001B[43mXGBoosterUpdateOneIter\u001B[49m\u001B[43m(\u001B[49m\u001B[38;5;28;43mself\u001B[39;49m\u001B[38;5;241;43m.\u001B[39;49m\u001B[43mhandle\u001B[49m\u001B[43m,\u001B[49m\n\u001B[1;32m   1779\u001B[0m \u001B[43m                                            \u001B[49m\u001B[43mctypes\u001B[49m\u001B[38;5;241;43m.\u001B[39;49m\u001B[43mc_int\u001B[49m\u001B[43m(\u001B[49m\u001B[43miteration\u001B[49m\u001B[43m)\u001B[49m\u001B[43m,\u001B[49m\n\u001B[1;32m   1780\u001B[0m \u001B[43m                                            \u001B[49m\u001B[43mdtrain\u001B[49m\u001B[38;5;241;43m.\u001B[39;49m\u001B[43mhandle\u001B[49m\u001B[43m)\u001B[49m)\n\u001B[1;32m   1781\u001B[0m \u001B[38;5;28;01melse\u001B[39;00m:\n\u001B[1;32m   1782\u001B[0m     pred \u001B[38;5;241m=\u001B[39m \u001B[38;5;28mself\u001B[39m\u001B[38;5;241m.\u001B[39mpredict(dtrain, output_margin\u001B[38;5;241m=\u001B[39m\u001B[38;5;28;01mTrue\u001B[39;00m, training\u001B[38;5;241m=\u001B[39m\u001B[38;5;28;01mTrue\u001B[39;00m)\n",
      "\u001B[0;31mKeyboardInterrupt\u001B[0m: "
     ]
    }
   ],
   "source": [
    "from sklearn.model_selection import cross_validate\n",
    "from sklearn.metrics import make_scorer, f1_score, roc_auc_score, accuracy_score, average_precision_score\n",
    "\n",
    "ENCODED_EMB_ROOT_PATH = os.path.join(EMB_ROOT_PATH, 'encoded_deepwalk')\n",
    "datasets = os.listdir(ENCODED_EMB_ROOT_PATH)\n",
    "\n",
    "result_acc = {}\n",
    "result_f1 = {}\n",
    "result_auc = {}\n",
    "result_aupr = {}\n",
    "step = 1\n",
    "\n",
    "scoring = {\n",
    "    'f1': make_scorer(f1_score),\n",
    "    'auc': make_scorer(roc_auc_score),\n",
    "    'accuracy': make_scorer(accuracy_score),\n",
    "    'aupr': make_scorer(average_precision_score)\n",
    "}\n",
    "\n",
    "for dataset in datasets:\n",
    "    start_time = time.time()\n",
    "    params, X, y, weight = dataloader(dataset, ppi.positive_id, ppi.risk_level)\n",
    "    X_train, X_test, y_train, y_test, weight_train, weights_test = train_test_split(X, y,\n",
    "                                                                                    weight,\n",
    "                                                                                    test_size=0.3,\n",
    "                                                                                    random_state=420)\n",
    "    key_index = params['d'] + '_' + params['l'] + '_' + params['n'] + '_deepwalk'\n",
    "    classifier = models[key_index]['clf']\n",
    "    cv_scores = cross_validate(classifier, X, y, cv=5, scoring=scoring)\n",
    "    result_acc[(params['d'], params['l'], params['n'])] = cv_scores['accuracy']\n",
    "    result_f1[(params['d'], params['l'], params['n'])] = cv_scores['f1']\n",
    "    result_auc[(params['d'], params['l'], params['n'])] = cv_scores['auc']\n",
    "    result_aupr[(params['d'], params['l'], params['n'])] = cv_scores['aupr']\n",
    "\n",
    "    end_time = time.time()\n",
    "    time_taken = end_time - start_time\n",
    "    print(f\"Time taken for iteration {step}: {time_taken} seconds\")\n",
    "    print(f\"params: dim:{params['d']}, length:{params['l']}, num:{params['n']}\")\n",
    "    print(\n",
    "        f\"f1:{cv_scores['f1']:.4f}, auc:{cv_scores['auc']:.4f}, acc:{cv_scores['accuracy']:.4f}, aupr:{cv_scores['aupr']:.4f}\\n\")\n",
    "    step += 1\n"
   ],
   "metadata": {
    "collapsed": false,
    "ExecuteTime": {
     "end_time": "2023-05-23T07:01:44.972762Z",
     "start_time": "2023-05-23T06:57:12.648131Z"
    }
   }
  },
  {
   "cell_type": "code",
   "execution_count": null,
   "outputs": [],
   "source": [],
   "metadata": {
    "collapsed": false
   }
  },
  {
   "cell_type": "code",
   "execution_count": null,
   "outputs": [],
   "source": [],
   "metadata": {
    "collapsed": false
   }
  }
 ],
 "metadata": {
  "kernelspec": {
   "display_name": "Python 3",
   "language": "python",
   "name": "python3"
  },
  "language_info": {
   "codemirror_mode": {
    "name": "ipython",
    "version": 2
   },
   "file_extension": ".py",
   "mimetype": "text/x-python",
   "name": "python",
   "nbconvert_exporter": "python",
   "pygments_lexer": "ipython2",
   "version": "2.7.6"
  }
 },
 "nbformat": 4,
 "nbformat_minor": 0
}
