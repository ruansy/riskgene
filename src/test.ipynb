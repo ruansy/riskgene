{
 "cells": [
  {
   "cell_type": "code",
   "execution_count": 1,
   "outputs": [],
   "source": [
    "import os\n",
    "\n",
    "import dill\n",
    "\n",
    "\n",
    "def get_project_rootpath():\n",
    "    \"\"\"\n",
    "    获取项目根目录。此函数的能力体现在，不论当前module被import到任何位置，都可以正确获取项目根目录\n",
    "    :return:\n",
    "    \"\"\"\n",
    "    path = os.path.realpath(os.curdir)\n",
    "    while True:\n",
    "        for subpath in os.listdir(path):\n",
    "            # PyCharm项目中，'.idea'是必然存在的，且名称唯一\n",
    "            if '.idea' in subpath:\n",
    "                return path\n",
    "        path = os.path.dirname(path)\n",
    "\n",
    "\n",
    "os.chdir(get_project_rootpath())"
   ],
   "metadata": {
    "collapsed": false,
    "ExecuteTime": {
     "end_time": "2023-05-13T14:32:26.566748Z",
     "start_time": "2023-05-13T14:32:26.550332Z"
    }
   }
  },
  {
   "cell_type": "code",
   "execution_count": 5,
   "outputs": [],
   "source": [
    "data = [1, 2, 3, 4, 5]\n",
    "serialized_data = dill.dumps(data)"
   ],
   "metadata": {
    "collapsed": false,
    "ExecuteTime": {
     "end_time": "2023-05-13T14:30:22.375406Z",
     "start_time": "2023-05-13T14:30:22.371193Z"
    }
   }
  },
  {
   "cell_type": "code",
   "execution_count": 6,
   "outputs": [],
   "source": [
    "with open('log/data.pkl', 'wb') as f:\n",
    "    f.write(serialized_data)"
   ],
   "metadata": {
    "collapsed": false,
    "ExecuteTime": {
     "end_time": "2023-05-13T14:31:33.283915Z",
     "start_time": "2023-05-13T14:31:33.281084Z"
    }
   }
  },
  {
   "cell_type": "code",
   "execution_count": 5,
   "outputs": [
    {
     "name": "stdout",
     "output_type": "stream",
     "text": [
      "{('128', '20', '80'): 0.6935683364254793, ('256', '20', '20'): 0.6849103277674706, ('128', '80', '40'): 0.7022263450834879, ('512', '40', '40'): 0.703308596165739, ('64', '40', '80'): 0.7104205318491033, ('128', '80', '20'): 0.7051638837353124, ('256', '80', '80'): 0.7016079158936301, ('256', '20', '40'): 0.6866110080395794, ('512', '40', '20'): 0.7000618429189858, ('512', '40', '80'): 0.7118119975262832, ('64', '40', '40'): 0.7059369202226345, ('128', '20', '40'): 0.6910946196660482, ('256', '80', '20'): 0.7002164502164502, ('128', '80', '80'): 0.7098021026592455, ('64', '40', '20'): 0.7142857142857143, ('256', '80', '40'): 0.6986703772418058, ('256', '20', '80'): 0.6986703772418058, ('128', '20', '20'): 0.6895485466914039, ('256', '40', '40'): 0.6904761904761905, ('512', '20', '20'): 0.6869202226345084, ('64', '80', '20'): 0.7062461348175634, ('256', '40', '20'): 0.700834879406308, ('128', '40', '80'): 0.6957328385899815, ('64', '80', '40'): 0.7081014223871367, ('512', '20', '40'): 0.7003710575139147, ('64', '20', '80'): 0.704700061842919, ('512', '80', '80'): 0.7125850340136054, ('512', '80', '20'): 0.7009894867037724, ('64', '20', '20'): 0.7022263450834879, ('128', '40', '20'): 0.698051948051948, ('256', '40', '80'): 0.6954236239950525, ('64', '80', '80'): 0.711038961038961, ('512', '20', '80'): 0.7031539888682746, ('64', '20', '40'): 0.7104205318491033, ('512', '80', '40'): 0.7155225726654298, ('128', '40', '40'): 0.6912492269635127} {('128', '20', '80'): 0.7677139489585587, ('256', '20', '20'): 0.7610830911948213, ('128', '80', '40'): 0.7762513038201374, ('512', '40', '40'): 0.7718663989208405, ('64', '40', '80'): 0.7890175926692917, ('128', '80', '20'): 0.7771654689578207, ('256', '80', '80'): 0.7791529456252796, ('256', '20', '40'): 0.7621012744041351, ('512', '40', '20'): 0.7737604241667001, ('512', '40', '80'): 0.7782743494361205, ('64', '40', '40'): 0.7887301934939743, ('128', '20', '40'): 0.7661359097194289, ('256', '80', '20'): 0.7729605042009935, ('128', '80', '80'): 0.7802335421908524, ('64', '40', '20'): 0.790275391961611, ('256', '80', '40'): 0.7729193268245468, ('256', '20', '80'): 0.7678462435484932, ('128', '20', '20'): 0.7642929720631332, ('256', '40', '40'): 0.7720122091371571, ('512', '20', '20'): 0.7615698749250479, ('64', '80', '20'): 0.7898232658184008, ('256', '40', '20'): 0.7731543058461858, ('128', '40', '80'): 0.7664842257083065, ('64', '80', '40'): 0.791250970417981, ('512', '20', '40'): 0.7743547826787894, ('64', '20', '80'): 0.7865203419692889, ('512', '80', '80'): 0.7799848349539976, ('512', '80', '20'): 0.7752635004265764, ('64', '20', '20'): 0.7828447214310262, ('128', '40', '20'): 0.768755597937454, ('256', '40', '80'): 0.7715020487620344, ('64', '80', '80'): 0.795650113413964, ('512', '20', '80'): 0.7748060524355518, ('64', '20', '40'): 0.7877978726196702, ('512', '80', '40'): 0.7812102294298073, ('128', '40', '40'): 0.7676491284791137} {('128', '20', '80'): 0.7161271841879117, ('256', '20', '20'): 0.7059163059163059, ('128', '80', '40'): 0.7224783861671469, ('512', '40', '40'): 0.723686105111591, ('64', '40', '80'): 0.7294525494727719, ('128', '80', '20'): 0.7244617829793382, ('256', '80', '80'): 0.7251495300484193, ('256', '20', '40'): 0.7068691250903834, ('512', '40', '20'): 0.719409892970784, ('512', '40', '80'): 0.7340182648401826, ('64', '40', '40'): 0.7254618937644343, ('128', '20', '40'): 0.7099303135888502, ('256', '80', '20'): 0.7221664994984954, ('128', '80', '80'): 0.7305096913137114, ('64', '40', '20'): 0.7314734088927638, ('256', '80', '40'): 0.7217701641684512, ('256', '20', '80'): 0.720493331421196, ('128', '20', '20'): 0.7085631349782293, ('256', '40', '40'): 0.7143264840182647, ('512', '20', '20'): 0.706988858341774, ('64', '80', '20'): 0.7239976757699014, ('256', '40', '20'): 0.7204161248374512, ('128', '40', '80'): 0.715112912565142, ('64', '80', '40'): 0.7299771167048054, ('512', '20', '40'): 0.718313953488372, ('64', '20', '80'): 0.7243071593533488, ('512', '80', '80'): 0.7343147063027011, ('512', '80', '20'): 0.723160606928142, ('64', '20', '20'): 0.7207886343867789, ('128', '40', '20'): 0.7187904967602591, ('256', '40', '80'): 0.7163018433179724, ('64', '80', '80'): 0.7303419419997115, ('512', '20', '80'): 0.7250859106529209, ('64', '20', '40'): 0.7296087772484481, ('512', '80', '40'): 0.7362385321100916, ('128', '40', '40'): 0.7130334818221008} {('128', '20', '80'): 0.7689163559262312, ('256', '20', '20'): 0.7592174626422078, ('128', '80', '40'): 0.7774368069620157, ('512', '40', '40'): 0.7753881414862227, ('64', '40', '80'): 0.7872925865043157, ('128', '80', '20'): 0.7792644337272614, ('256', '80', '80'): 0.7779322649683948, ('256', '20', '40'): 0.7610932037466565, ('512', '40', '20'): 0.77474096771772, ('512', '40', '80'): 0.7839910810856356, ('64', '40', '40'): 0.7850923488912924, ('128', '20', '40'): 0.7681462392491979, ('256', '80', '20'): 0.7749710547965352, ('128', '80', '80'): 0.7839392803741754, ('64', '40', '20'): 0.7896083464063902, ('256', '80', '40'): 0.7733409122593613, ('256', '20', '80'): 0.7735671214660617, ('128', '20', '20'): 0.7604922771937458, ('256', '40', '40'): 0.7708987624513206, ('512', '20', '20'): 0.7600353585336932, ('64', '80', '20'): 0.7876412119949383, ('256', '40', '20'): 0.7752889924349897, ('128', '40', '80'): 0.7707580100560405, ('64', '80', '40'): 0.7882658366552174, ('512', '20', '40'): 0.7732305125914986, ('64', '20', '80'): 0.7829703389700678, ('512', '80', '80'): 0.7838878147874657, ('512', '80', '20'): 0.7767113576267498, ('64', '20', '20'): 0.7772828410765662, ('128', '40', '20'): 0.7724679122838733, ('256', '40', '80'): 0.7734174643274065, ('64', '80', '80'): 0.7925981379319854, ('512', '20', '80'): 0.7778907094993122, ('64', '20', '40'): 0.7858736204350263, ('512', '80', '40'): 0.7854141644018616, ('128', '40', '40'): 0.7697289855716347}\n"
     ]
    }
   ],
   "source": [
    "with open('log/xgboost_result.pkl', 'rb') as f:\n",
    "    result_acc = dill.load(f)\n",
    "    result_aupr = dill.load(f)\n",
    "    result_f1 = dill.load(f)\n",
    "    result_auc = dill.load(f)\n",
    "print(result_acc, result_aupr, result_f1, result_auc)"
   ],
   "metadata": {
    "collapsed": false,
    "ExecuteTime": {
     "end_time": "2023-05-13T14:42:03.857279Z",
     "start_time": "2023-05-13T14:42:03.748519Z"
    }
   }
  },
  {
   "cell_type": "code",
   "execution_count": 6,
   "outputs": [
    {
     "data": {
      "text/plain": "{'128_20_80_deepwalk': {'clf': XGBClassifier(base_score=0.5, booster='gbtree', callbacks=None,\n                colsample_bylevel=1, colsample_bynode=1, colsample_bytree=0.9,\n                early_stopping_rounds=None, enable_categorical=False,\n                eval_metric='auc', gamma=0.5, gpu_id=-1, grow_policy='depthwise',\n                importance_type=None, interaction_constraints='',\n                learning_rate=0.01, max_bin=256, max_cat_to_onehot=4,\n                max_delta_step=0, max_depth=6, max_leaves=0, min_child_weight=5,\n                missing=nan, monotone_constraints='()', n_estimators=1550,\n                n_jobs=0, num_parallel_tree=1, predictor='auto', random_state=420,\n                reg_alpha=0.1, reg_lambda=1, ...),\n  'f1': 0.7161271841879117,\n  'aur': 0.7689163559262312,\n  'acc': 0.6935683364254793,\n  'aupr': 0.7677139489585587},\n '256_20_20_deepwalk': {'clf': XGBClassifier(base_score=0.5, booster='gbtree', callbacks=None,\n                colsample_bylevel=1, colsample_bynode=1, colsample_bytree=0.9,\n                early_stopping_rounds=None, enable_categorical=False,\n                eval_metric='auc', gamma=0.5, gpu_id=-1, grow_policy='depthwise',\n                importance_type=None, interaction_constraints='',\n                learning_rate=0.01, max_bin=256, max_cat_to_onehot=4,\n                max_delta_step=0, max_depth=6, max_leaves=0, min_child_weight=5,\n                missing=nan, monotone_constraints='()', n_estimators=1550,\n                n_jobs=0, num_parallel_tree=1, predictor='auto', random_state=420,\n                reg_alpha=0.1, reg_lambda=1, ...),\n  'f1': 0.7059163059163059,\n  'aur': 0.7592174626422078,\n  'acc': 0.6849103277674706,\n  'aupr': 0.7610830911948213},\n '128_80_40_deepwalk': {'clf': XGBClassifier(base_score=0.5, booster='gbtree', callbacks=None,\n                colsample_bylevel=1, colsample_bynode=1, colsample_bytree=0.9,\n                early_stopping_rounds=None, enable_categorical=False,\n                eval_metric='auc', gamma=0.5, gpu_id=-1, grow_policy='depthwise',\n                importance_type=None, interaction_constraints='',\n                learning_rate=0.01, max_bin=256, max_cat_to_onehot=4,\n                max_delta_step=0, max_depth=6, max_leaves=0, min_child_weight=5,\n                missing=nan, monotone_constraints='()', n_estimators=1550,\n                n_jobs=0, num_parallel_tree=1, predictor='auto', random_state=420,\n                reg_alpha=0.1, reg_lambda=1, ...),\n  'f1': 0.7224783861671469,\n  'aur': 0.7774368069620157,\n  'acc': 0.7022263450834879,\n  'aupr': 0.7762513038201374},\n '512_40_40_deepwalk': {'clf': XGBClassifier(base_score=0.5, booster='gbtree', callbacks=None,\n                colsample_bylevel=1, colsample_bynode=1, colsample_bytree=0.9,\n                early_stopping_rounds=None, enable_categorical=False,\n                eval_metric='auc', gamma=0.5, gpu_id=-1, grow_policy='depthwise',\n                importance_type=None, interaction_constraints='',\n                learning_rate=0.01, max_bin=256, max_cat_to_onehot=4,\n                max_delta_step=0, max_depth=6, max_leaves=0, min_child_weight=5,\n                missing=nan, monotone_constraints='()', n_estimators=1550,\n                n_jobs=0, num_parallel_tree=1, predictor='auto', random_state=420,\n                reg_alpha=0.1, reg_lambda=1, ...),\n  'f1': 0.723686105111591,\n  'aur': 0.7753881414862227,\n  'acc': 0.703308596165739,\n  'aupr': 0.7718663989208405},\n '64_40_80_deepwalk': {'clf': XGBClassifier(base_score=0.5, booster='gbtree', callbacks=None,\n                colsample_bylevel=1, colsample_bynode=1, colsample_bytree=0.9,\n                early_stopping_rounds=None, enable_categorical=False,\n                eval_metric='auc', gamma=0.5, gpu_id=-1, grow_policy='depthwise',\n                importance_type=None, interaction_constraints='',\n                learning_rate=0.01, max_bin=256, max_cat_to_onehot=4,\n                max_delta_step=0, max_depth=6, max_leaves=0, min_child_weight=5,\n                missing=nan, monotone_constraints='()', n_estimators=1550,\n                n_jobs=0, num_parallel_tree=1, predictor='auto', random_state=420,\n                reg_alpha=0.1, reg_lambda=1, ...),\n  'f1': 0.7294525494727719,\n  'aur': 0.7872925865043157,\n  'acc': 0.7104205318491033,\n  'aupr': 0.7890175926692917},\n '128_80_20_deepwalk': {'clf': XGBClassifier(base_score=0.5, booster='gbtree', callbacks=None,\n                colsample_bylevel=1, colsample_bynode=1, colsample_bytree=0.9,\n                early_stopping_rounds=None, enable_categorical=False,\n                eval_metric='auc', gamma=0.5, gpu_id=-1, grow_policy='depthwise',\n                importance_type=None, interaction_constraints='',\n                learning_rate=0.01, max_bin=256, max_cat_to_onehot=4,\n                max_delta_step=0, max_depth=6, max_leaves=0, min_child_weight=5,\n                missing=nan, monotone_constraints='()', n_estimators=1550,\n                n_jobs=0, num_parallel_tree=1, predictor='auto', random_state=420,\n                reg_alpha=0.1, reg_lambda=1, ...),\n  'f1': 0.7244617829793382,\n  'aur': 0.7792644337272614,\n  'acc': 0.7051638837353124,\n  'aupr': 0.7771654689578207},\n '256_80_80_deepwalk': {'clf': XGBClassifier(base_score=0.5, booster='gbtree', callbacks=None,\n                colsample_bylevel=1, colsample_bynode=1, colsample_bytree=0.9,\n                early_stopping_rounds=None, enable_categorical=False,\n                eval_metric='auc', gamma=0.5, gpu_id=-1, grow_policy='depthwise',\n                importance_type=None, interaction_constraints='',\n                learning_rate=0.01, max_bin=256, max_cat_to_onehot=4,\n                max_delta_step=0, max_depth=6, max_leaves=0, min_child_weight=5,\n                missing=nan, monotone_constraints='()', n_estimators=1550,\n                n_jobs=0, num_parallel_tree=1, predictor='auto', random_state=420,\n                reg_alpha=0.1, reg_lambda=1, ...),\n  'f1': 0.7251495300484193,\n  'aur': 0.7779322649683948,\n  'acc': 0.7016079158936301,\n  'aupr': 0.7791529456252796},\n '256_20_40_deepwalk': {'clf': XGBClassifier(base_score=0.5, booster='gbtree', callbacks=None,\n                colsample_bylevel=1, colsample_bynode=1, colsample_bytree=0.9,\n                early_stopping_rounds=None, enable_categorical=False,\n                eval_metric='auc', gamma=0.5, gpu_id=-1, grow_policy='depthwise',\n                importance_type=None, interaction_constraints='',\n                learning_rate=0.01, max_bin=256, max_cat_to_onehot=4,\n                max_delta_step=0, max_depth=6, max_leaves=0, min_child_weight=5,\n                missing=nan, monotone_constraints='()', n_estimators=1550,\n                n_jobs=0, num_parallel_tree=1, predictor='auto', random_state=420,\n                reg_alpha=0.1, reg_lambda=1, ...),\n  'f1': 0.7068691250903834,\n  'aur': 0.7610932037466565,\n  'acc': 0.6866110080395794,\n  'aupr': 0.7621012744041351},\n '512_40_20_deepwalk': {'clf': XGBClassifier(base_score=0.5, booster='gbtree', callbacks=None,\n                colsample_bylevel=1, colsample_bynode=1, colsample_bytree=0.9,\n                early_stopping_rounds=None, enable_categorical=False,\n                eval_metric='auc', gamma=0.5, gpu_id=-1, grow_policy='depthwise',\n                importance_type=None, interaction_constraints='',\n                learning_rate=0.01, max_bin=256, max_cat_to_onehot=4,\n                max_delta_step=0, max_depth=6, max_leaves=0, min_child_weight=5,\n                missing=nan, monotone_constraints='()', n_estimators=1550,\n                n_jobs=0, num_parallel_tree=1, predictor='auto', random_state=420,\n                reg_alpha=0.1, reg_lambda=1, ...),\n  'f1': 0.719409892970784,\n  'aur': 0.77474096771772,\n  'acc': 0.7000618429189858,\n  'aupr': 0.7737604241667001},\n '512_40_80_deepwalk': {'clf': XGBClassifier(base_score=0.5, booster='gbtree', callbacks=None,\n                colsample_bylevel=1, colsample_bynode=1, colsample_bytree=0.9,\n                early_stopping_rounds=None, enable_categorical=False,\n                eval_metric='auc', gamma=0.5, gpu_id=-1, grow_policy='depthwise',\n                importance_type=None, interaction_constraints='',\n                learning_rate=0.01, max_bin=256, max_cat_to_onehot=4,\n                max_delta_step=0, max_depth=6, max_leaves=0, min_child_weight=5,\n                missing=nan, monotone_constraints='()', n_estimators=1550,\n                n_jobs=0, num_parallel_tree=1, predictor='auto', random_state=420,\n                reg_alpha=0.1, reg_lambda=1, ...),\n  'f1': 0.7340182648401826,\n  'aur': 0.7839910810856356,\n  'acc': 0.7118119975262832,\n  'aupr': 0.7782743494361205},\n '64_40_40_deepwalk': {'clf': XGBClassifier(base_score=0.5, booster='gbtree', callbacks=None,\n                colsample_bylevel=1, colsample_bynode=1, colsample_bytree=0.9,\n                early_stopping_rounds=None, enable_categorical=False,\n                eval_metric='auc', gamma=0.5, gpu_id=-1, grow_policy='depthwise',\n                importance_type=None, interaction_constraints='',\n                learning_rate=0.01, max_bin=256, max_cat_to_onehot=4,\n                max_delta_step=0, max_depth=6, max_leaves=0, min_child_weight=5,\n                missing=nan, monotone_constraints='()', n_estimators=1550,\n                n_jobs=0, num_parallel_tree=1, predictor='auto', random_state=420,\n                reg_alpha=0.1, reg_lambda=1, ...),\n  'f1': 0.7254618937644343,\n  'aur': 0.7850923488912924,\n  'acc': 0.7059369202226345,\n  'aupr': 0.7887301934939743},\n '128_20_40_deepwalk': {'clf': XGBClassifier(base_score=0.5, booster='gbtree', callbacks=None,\n                colsample_bylevel=1, colsample_bynode=1, colsample_bytree=0.9,\n                early_stopping_rounds=None, enable_categorical=False,\n                eval_metric='auc', gamma=0.5, gpu_id=-1, grow_policy='depthwise',\n                importance_type=None, interaction_constraints='',\n                learning_rate=0.01, max_bin=256, max_cat_to_onehot=4,\n                max_delta_step=0, max_depth=6, max_leaves=0, min_child_weight=5,\n                missing=nan, monotone_constraints='()', n_estimators=1550,\n                n_jobs=0, num_parallel_tree=1, predictor='auto', random_state=420,\n                reg_alpha=0.1, reg_lambda=1, ...),\n  'f1': 0.7099303135888502,\n  'aur': 0.7681462392491979,\n  'acc': 0.6910946196660482,\n  'aupr': 0.7661359097194289},\n '256_80_20_deepwalk': {'clf': XGBClassifier(base_score=0.5, booster='gbtree', callbacks=None,\n                colsample_bylevel=1, colsample_bynode=1, colsample_bytree=0.9,\n                early_stopping_rounds=None, enable_categorical=False,\n                eval_metric='auc', gamma=0.5, gpu_id=-1, grow_policy='depthwise',\n                importance_type=None, interaction_constraints='',\n                learning_rate=0.01, max_bin=256, max_cat_to_onehot=4,\n                max_delta_step=0, max_depth=6, max_leaves=0, min_child_weight=5,\n                missing=nan, monotone_constraints='()', n_estimators=1550,\n                n_jobs=0, num_parallel_tree=1, predictor='auto', random_state=420,\n                reg_alpha=0.1, reg_lambda=1, ...),\n  'f1': 0.7221664994984954,\n  'aur': 0.7749710547965352,\n  'acc': 0.7002164502164502,\n  'aupr': 0.7729605042009935},\n '128_80_80_deepwalk': {'clf': XGBClassifier(base_score=0.5, booster='gbtree', callbacks=None,\n                colsample_bylevel=1, colsample_bynode=1, colsample_bytree=0.9,\n                early_stopping_rounds=None, enable_categorical=False,\n                eval_metric='auc', gamma=0.5, gpu_id=-1, grow_policy='depthwise',\n                importance_type=None, interaction_constraints='',\n                learning_rate=0.01, max_bin=256, max_cat_to_onehot=4,\n                max_delta_step=0, max_depth=6, max_leaves=0, min_child_weight=5,\n                missing=nan, monotone_constraints='()', n_estimators=1550,\n                n_jobs=0, num_parallel_tree=1, predictor='auto', random_state=420,\n                reg_alpha=0.1, reg_lambda=1, ...),\n  'f1': 0.7305096913137114,\n  'aur': 0.7839392803741754,\n  'acc': 0.7098021026592455,\n  'aupr': 0.7802335421908524},\n '64_40_20_deepwalk': {'clf': XGBClassifier(base_score=0.5, booster='gbtree', callbacks=None,\n                colsample_bylevel=1, colsample_bynode=1, colsample_bytree=0.9,\n                early_stopping_rounds=None, enable_categorical=False,\n                eval_metric='auc', gamma=0.5, gpu_id=-1, grow_policy='depthwise',\n                importance_type=None, interaction_constraints='',\n                learning_rate=0.01, max_bin=256, max_cat_to_onehot=4,\n                max_delta_step=0, max_depth=6, max_leaves=0, min_child_weight=5,\n                missing=nan, monotone_constraints='()', n_estimators=1550,\n                n_jobs=0, num_parallel_tree=1, predictor='auto', random_state=420,\n                reg_alpha=0.1, reg_lambda=1, ...),\n  'f1': 0.7314734088927638,\n  'aur': 0.7896083464063902,\n  'acc': 0.7142857142857143,\n  'aupr': 0.790275391961611},\n '256_80_40_deepwalk': {'clf': XGBClassifier(base_score=0.5, booster='gbtree', callbacks=None,\n                colsample_bylevel=1, colsample_bynode=1, colsample_bytree=0.9,\n                early_stopping_rounds=None, enable_categorical=False,\n                eval_metric='auc', gamma=0.5, gpu_id=-1, grow_policy='depthwise',\n                importance_type=None, interaction_constraints='',\n                learning_rate=0.01, max_bin=256, max_cat_to_onehot=4,\n                max_delta_step=0, max_depth=6, max_leaves=0, min_child_weight=5,\n                missing=nan, monotone_constraints='()', n_estimators=1550,\n                n_jobs=0, num_parallel_tree=1, predictor='auto', random_state=420,\n                reg_alpha=0.1, reg_lambda=1, ...),\n  'f1': 0.7217701641684512,\n  'aur': 0.7733409122593613,\n  'acc': 0.6986703772418058,\n  'aupr': 0.7729193268245468},\n '256_20_80_deepwalk': {'clf': XGBClassifier(base_score=0.5, booster='gbtree', callbacks=None,\n                colsample_bylevel=1, colsample_bynode=1, colsample_bytree=0.9,\n                early_stopping_rounds=None, enable_categorical=False,\n                eval_metric='auc', gamma=0.5, gpu_id=-1, grow_policy='depthwise',\n                importance_type=None, interaction_constraints='',\n                learning_rate=0.01, max_bin=256, max_cat_to_onehot=4,\n                max_delta_step=0, max_depth=6, max_leaves=0, min_child_weight=5,\n                missing=nan, monotone_constraints='()', n_estimators=1550,\n                n_jobs=0, num_parallel_tree=1, predictor='auto', random_state=420,\n                reg_alpha=0.1, reg_lambda=1, ...),\n  'f1': 0.720493331421196,\n  'aur': 0.7735671214660617,\n  'acc': 0.6986703772418058,\n  'aupr': 0.7678462435484932},\n '128_20_20_deepwalk': {'clf': XGBClassifier(base_score=0.5, booster='gbtree', callbacks=None,\n                colsample_bylevel=1, colsample_bynode=1, colsample_bytree=0.9,\n                early_stopping_rounds=None, enable_categorical=False,\n                eval_metric='auc', gamma=0.5, gpu_id=-1, grow_policy='depthwise',\n                importance_type=None, interaction_constraints='',\n                learning_rate=0.01, max_bin=256, max_cat_to_onehot=4,\n                max_delta_step=0, max_depth=6, max_leaves=0, min_child_weight=5,\n                missing=nan, monotone_constraints='()', n_estimators=1550,\n                n_jobs=0, num_parallel_tree=1, predictor='auto', random_state=420,\n                reg_alpha=0.1, reg_lambda=1, ...),\n  'f1': 0.7085631349782293,\n  'aur': 0.7604922771937458,\n  'acc': 0.6895485466914039,\n  'aupr': 0.7642929720631332},\n '256_40_40_deepwalk': {'clf': XGBClassifier(base_score=0.5, booster='gbtree', callbacks=None,\n                colsample_bylevel=1, colsample_bynode=1, colsample_bytree=0.9,\n                early_stopping_rounds=None, enable_categorical=False,\n                eval_metric='auc', gamma=0.5, gpu_id=-1, grow_policy='depthwise',\n                importance_type=None, interaction_constraints='',\n                learning_rate=0.01, max_bin=256, max_cat_to_onehot=4,\n                max_delta_step=0, max_depth=6, max_leaves=0, min_child_weight=5,\n                missing=nan, monotone_constraints='()', n_estimators=1550,\n                n_jobs=0, num_parallel_tree=1, predictor='auto', random_state=420,\n                reg_alpha=0.1, reg_lambda=1, ...),\n  'f1': 0.7143264840182647,\n  'aur': 0.7708987624513206,\n  'acc': 0.6904761904761905,\n  'aupr': 0.7720122091371571},\n '512_20_20_deepwalk': {'clf': XGBClassifier(base_score=0.5, booster='gbtree', callbacks=None,\n                colsample_bylevel=1, colsample_bynode=1, colsample_bytree=0.9,\n                early_stopping_rounds=None, enable_categorical=False,\n                eval_metric='auc', gamma=0.5, gpu_id=-1, grow_policy='depthwise',\n                importance_type=None, interaction_constraints='',\n                learning_rate=0.01, max_bin=256, max_cat_to_onehot=4,\n                max_delta_step=0, max_depth=6, max_leaves=0, min_child_weight=5,\n                missing=nan, monotone_constraints='()', n_estimators=1550,\n                n_jobs=0, num_parallel_tree=1, predictor='auto', random_state=420,\n                reg_alpha=0.1, reg_lambda=1, ...),\n  'f1': 0.706988858341774,\n  'aur': 0.7600353585336932,\n  'acc': 0.6869202226345084,\n  'aupr': 0.7615698749250479},\n '64_80_20_deepwalk': {'clf': XGBClassifier(base_score=0.5, booster='gbtree', callbacks=None,\n                colsample_bylevel=1, colsample_bynode=1, colsample_bytree=0.9,\n                early_stopping_rounds=None, enable_categorical=False,\n                eval_metric='auc', gamma=0.5, gpu_id=-1, grow_policy='depthwise',\n                importance_type=None, interaction_constraints='',\n                learning_rate=0.01, max_bin=256, max_cat_to_onehot=4,\n                max_delta_step=0, max_depth=6, max_leaves=0, min_child_weight=5,\n                missing=nan, monotone_constraints='()', n_estimators=1550,\n                n_jobs=0, num_parallel_tree=1, predictor='auto', random_state=420,\n                reg_alpha=0.1, reg_lambda=1, ...),\n  'f1': 0.7239976757699014,\n  'aur': 0.7876412119949383,\n  'acc': 0.7062461348175634,\n  'aupr': 0.7898232658184008},\n '256_40_20_deepwalk': {'clf': XGBClassifier(base_score=0.5, booster='gbtree', callbacks=None,\n                colsample_bylevel=1, colsample_bynode=1, colsample_bytree=0.9,\n                early_stopping_rounds=None, enable_categorical=False,\n                eval_metric='auc', gamma=0.5, gpu_id=-1, grow_policy='depthwise',\n                importance_type=None, interaction_constraints='',\n                learning_rate=0.01, max_bin=256, max_cat_to_onehot=4,\n                max_delta_step=0, max_depth=6, max_leaves=0, min_child_weight=5,\n                missing=nan, monotone_constraints='()', n_estimators=1550,\n                n_jobs=0, num_parallel_tree=1, predictor='auto', random_state=420,\n                reg_alpha=0.1, reg_lambda=1, ...),\n  'f1': 0.7204161248374512,\n  'aur': 0.7752889924349897,\n  'acc': 0.700834879406308,\n  'aupr': 0.7731543058461858},\n '128_40_80_deepwalk': {'clf': XGBClassifier(base_score=0.5, booster='gbtree', callbacks=None,\n                colsample_bylevel=1, colsample_bynode=1, colsample_bytree=0.9,\n                early_stopping_rounds=None, enable_categorical=False,\n                eval_metric='auc', gamma=0.5, gpu_id=-1, grow_policy='depthwise',\n                importance_type=None, interaction_constraints='',\n                learning_rate=0.01, max_bin=256, max_cat_to_onehot=4,\n                max_delta_step=0, max_depth=6, max_leaves=0, min_child_weight=5,\n                missing=nan, monotone_constraints='()', n_estimators=1550,\n                n_jobs=0, num_parallel_tree=1, predictor='auto', random_state=420,\n                reg_alpha=0.1, reg_lambda=1, ...),\n  'f1': 0.715112912565142,\n  'aur': 0.7707580100560405,\n  'acc': 0.6957328385899815,\n  'aupr': 0.7664842257083065},\n '64_80_40_deepwalk': {'clf': XGBClassifier(base_score=0.5, booster='gbtree', callbacks=None,\n                colsample_bylevel=1, colsample_bynode=1, colsample_bytree=0.9,\n                early_stopping_rounds=None, enable_categorical=False,\n                eval_metric='auc', gamma=0.5, gpu_id=-1, grow_policy='depthwise',\n                importance_type=None, interaction_constraints='',\n                learning_rate=0.01, max_bin=256, max_cat_to_onehot=4,\n                max_delta_step=0, max_depth=6, max_leaves=0, min_child_weight=5,\n                missing=nan, monotone_constraints='()', n_estimators=1550,\n                n_jobs=0, num_parallel_tree=1, predictor='auto', random_state=420,\n                reg_alpha=0.1, reg_lambda=1, ...),\n  'f1': 0.7299771167048054,\n  'aur': 0.7882658366552174,\n  'acc': 0.7081014223871367,\n  'aupr': 0.791250970417981},\n '512_20_40_deepwalk': {'clf': XGBClassifier(base_score=0.5, booster='gbtree', callbacks=None,\n                colsample_bylevel=1, colsample_bynode=1, colsample_bytree=0.9,\n                early_stopping_rounds=None, enable_categorical=False,\n                eval_metric='auc', gamma=0.5, gpu_id=-1, grow_policy='depthwise',\n                importance_type=None, interaction_constraints='',\n                learning_rate=0.01, max_bin=256, max_cat_to_onehot=4,\n                max_delta_step=0, max_depth=6, max_leaves=0, min_child_weight=5,\n                missing=nan, monotone_constraints='()', n_estimators=1550,\n                n_jobs=0, num_parallel_tree=1, predictor='auto', random_state=420,\n                reg_alpha=0.1, reg_lambda=1, ...),\n  'f1': 0.718313953488372,\n  'aur': 0.7732305125914986,\n  'acc': 0.7003710575139147,\n  'aupr': 0.7743547826787894},\n '64_20_80_deepwalk': {'clf': XGBClassifier(base_score=0.5, booster='gbtree', callbacks=None,\n                colsample_bylevel=1, colsample_bynode=1, colsample_bytree=0.9,\n                early_stopping_rounds=None, enable_categorical=False,\n                eval_metric='auc', gamma=0.5, gpu_id=-1, grow_policy='depthwise',\n                importance_type=None, interaction_constraints='',\n                learning_rate=0.01, max_bin=256, max_cat_to_onehot=4,\n                max_delta_step=0, max_depth=6, max_leaves=0, min_child_weight=5,\n                missing=nan, monotone_constraints='()', n_estimators=1550,\n                n_jobs=0, num_parallel_tree=1, predictor='auto', random_state=420,\n                reg_alpha=0.1, reg_lambda=1, ...),\n  'f1': 0.7243071593533488,\n  'aur': 0.7829703389700678,\n  'acc': 0.704700061842919,\n  'aupr': 0.7865203419692889},\n '512_80_80_deepwalk': {'clf': XGBClassifier(base_score=0.5, booster='gbtree', callbacks=None,\n                colsample_bylevel=1, colsample_bynode=1, colsample_bytree=0.9,\n                early_stopping_rounds=None, enable_categorical=False,\n                eval_metric='auc', gamma=0.5, gpu_id=-1, grow_policy='depthwise',\n                importance_type=None, interaction_constraints='',\n                learning_rate=0.01, max_bin=256, max_cat_to_onehot=4,\n                max_delta_step=0, max_depth=6, max_leaves=0, min_child_weight=5,\n                missing=nan, monotone_constraints='()', n_estimators=1550,\n                n_jobs=0, num_parallel_tree=1, predictor='auto', random_state=420,\n                reg_alpha=0.1, reg_lambda=1, ...),\n  'f1': 0.7343147063027011,\n  'aur': 0.7838878147874657,\n  'acc': 0.7125850340136054,\n  'aupr': 0.7799848349539976},\n '512_80_20_deepwalk': {'clf': XGBClassifier(base_score=0.5, booster='gbtree', callbacks=None,\n                colsample_bylevel=1, colsample_bynode=1, colsample_bytree=0.9,\n                early_stopping_rounds=None, enable_categorical=False,\n                eval_metric='auc', gamma=0.5, gpu_id=-1, grow_policy='depthwise',\n                importance_type=None, interaction_constraints='',\n                learning_rate=0.01, max_bin=256, max_cat_to_onehot=4,\n                max_delta_step=0, max_depth=6, max_leaves=0, min_child_weight=5,\n                missing=nan, monotone_constraints='()', n_estimators=1550,\n                n_jobs=0, num_parallel_tree=1, predictor='auto', random_state=420,\n                reg_alpha=0.1, reg_lambda=1, ...),\n  'f1': 0.723160606928142,\n  'aur': 0.7767113576267498,\n  'acc': 0.7009894867037724,\n  'aupr': 0.7752635004265764},\n '64_20_20_deepwalk': {'clf': XGBClassifier(base_score=0.5, booster='gbtree', callbacks=None,\n                colsample_bylevel=1, colsample_bynode=1, colsample_bytree=0.9,\n                early_stopping_rounds=None, enable_categorical=False,\n                eval_metric='auc', gamma=0.5, gpu_id=-1, grow_policy='depthwise',\n                importance_type=None, interaction_constraints='',\n                learning_rate=0.01, max_bin=256, max_cat_to_onehot=4,\n                max_delta_step=0, max_depth=6, max_leaves=0, min_child_weight=5,\n                missing=nan, monotone_constraints='()', n_estimators=1550,\n                n_jobs=0, num_parallel_tree=1, predictor='auto', random_state=420,\n                reg_alpha=0.1, reg_lambda=1, ...),\n  'f1': 0.7207886343867789,\n  'aur': 0.7772828410765662,\n  'acc': 0.7022263450834879,\n  'aupr': 0.7828447214310262},\n '128_40_20_deepwalk': {'clf': XGBClassifier(base_score=0.5, booster='gbtree', callbacks=None,\n                colsample_bylevel=1, colsample_bynode=1, colsample_bytree=0.9,\n                early_stopping_rounds=None, enable_categorical=False,\n                eval_metric='auc', gamma=0.5, gpu_id=-1, grow_policy='depthwise',\n                importance_type=None, interaction_constraints='',\n                learning_rate=0.01, max_bin=256, max_cat_to_onehot=4,\n                max_delta_step=0, max_depth=6, max_leaves=0, min_child_weight=5,\n                missing=nan, monotone_constraints='()', n_estimators=1550,\n                n_jobs=0, num_parallel_tree=1, predictor='auto', random_state=420,\n                reg_alpha=0.1, reg_lambda=1, ...),\n  'f1': 0.7187904967602591,\n  'aur': 0.7724679122838733,\n  'acc': 0.698051948051948,\n  'aupr': 0.768755597937454},\n '256_40_80_deepwalk': {'clf': XGBClassifier(base_score=0.5, booster='gbtree', callbacks=None,\n                colsample_bylevel=1, colsample_bynode=1, colsample_bytree=0.9,\n                early_stopping_rounds=None, enable_categorical=False,\n                eval_metric='auc', gamma=0.5, gpu_id=-1, grow_policy='depthwise',\n                importance_type=None, interaction_constraints='',\n                learning_rate=0.01, max_bin=256, max_cat_to_onehot=4,\n                max_delta_step=0, max_depth=6, max_leaves=0, min_child_weight=5,\n                missing=nan, monotone_constraints='()', n_estimators=1550,\n                n_jobs=0, num_parallel_tree=1, predictor='auto', random_state=420,\n                reg_alpha=0.1, reg_lambda=1, ...),\n  'f1': 0.7163018433179724,\n  'aur': 0.7734174643274065,\n  'acc': 0.6954236239950525,\n  'aupr': 0.7715020487620344},\n '64_80_80_deepwalk': {'clf': XGBClassifier(base_score=0.5, booster='gbtree', callbacks=None,\n                colsample_bylevel=1, colsample_bynode=1, colsample_bytree=0.9,\n                early_stopping_rounds=None, enable_categorical=False,\n                eval_metric='auc', gamma=0.5, gpu_id=-1, grow_policy='depthwise',\n                importance_type=None, interaction_constraints='',\n                learning_rate=0.01, max_bin=256, max_cat_to_onehot=4,\n                max_delta_step=0, max_depth=6, max_leaves=0, min_child_weight=5,\n                missing=nan, monotone_constraints='()', n_estimators=1550,\n                n_jobs=0, num_parallel_tree=1, predictor='auto', random_state=420,\n                reg_alpha=0.1, reg_lambda=1, ...),\n  'f1': 0.7303419419997115,\n  'aur': 0.7925981379319854,\n  'acc': 0.711038961038961,\n  'aupr': 0.795650113413964},\n '512_20_80_deepwalk': {'clf': XGBClassifier(base_score=0.5, booster='gbtree', callbacks=None,\n                colsample_bylevel=1, colsample_bynode=1, colsample_bytree=0.9,\n                early_stopping_rounds=None, enable_categorical=False,\n                eval_metric='auc', gamma=0.5, gpu_id=-1, grow_policy='depthwise',\n                importance_type=None, interaction_constraints='',\n                learning_rate=0.01, max_bin=256, max_cat_to_onehot=4,\n                max_delta_step=0, max_depth=6, max_leaves=0, min_child_weight=5,\n                missing=nan, monotone_constraints='()', n_estimators=1550,\n                n_jobs=0, num_parallel_tree=1, predictor='auto', random_state=420,\n                reg_alpha=0.1, reg_lambda=1, ...),\n  'f1': 0.7250859106529209,\n  'aur': 0.7778907094993122,\n  'acc': 0.7031539888682746,\n  'aupr': 0.7748060524355518},\n '64_20_40_deepwalk': {'clf': XGBClassifier(base_score=0.5, booster='gbtree', callbacks=None,\n                colsample_bylevel=1, colsample_bynode=1, colsample_bytree=0.9,\n                early_stopping_rounds=None, enable_categorical=False,\n                eval_metric='auc', gamma=0.5, gpu_id=-1, grow_policy='depthwise',\n                importance_type=None, interaction_constraints='',\n                learning_rate=0.01, max_bin=256, max_cat_to_onehot=4,\n                max_delta_step=0, max_depth=6, max_leaves=0, min_child_weight=5,\n                missing=nan, monotone_constraints='()', n_estimators=1550,\n                n_jobs=0, num_parallel_tree=1, predictor='auto', random_state=420,\n                reg_alpha=0.1, reg_lambda=1, ...),\n  'f1': 0.7296087772484481,\n  'aur': 0.7858736204350263,\n  'acc': 0.7104205318491033,\n  'aupr': 0.7877978726196702},\n '512_80_40_deepwalk': {'clf': XGBClassifier(base_score=0.5, booster='gbtree', callbacks=None,\n                colsample_bylevel=1, colsample_bynode=1, colsample_bytree=0.9,\n                early_stopping_rounds=None, enable_categorical=False,\n                eval_metric='auc', gamma=0.5, gpu_id=-1, grow_policy='depthwise',\n                importance_type=None, interaction_constraints='',\n                learning_rate=0.01, max_bin=256, max_cat_to_onehot=4,\n                max_delta_step=0, max_depth=6, max_leaves=0, min_child_weight=5,\n                missing=nan, monotone_constraints='()', n_estimators=1550,\n                n_jobs=0, num_parallel_tree=1, predictor='auto', random_state=420,\n                reg_alpha=0.1, reg_lambda=1, ...),\n  'f1': 0.7362385321100916,\n  'aur': 0.7854141644018616,\n  'acc': 0.7155225726654298,\n  'aupr': 0.7812102294298073},\n '128_40_40_deepwalk': {'clf': XGBClassifier(base_score=0.5, booster='gbtree', callbacks=None,\n                colsample_bylevel=1, colsample_bynode=1, colsample_bytree=0.9,\n                early_stopping_rounds=None, enable_categorical=False,\n                eval_metric='auc', gamma=0.5, gpu_id=-1, grow_policy='depthwise',\n                importance_type=None, interaction_constraints='',\n                learning_rate=0.01, max_bin=256, max_cat_to_onehot=4,\n                max_delta_step=0, max_depth=6, max_leaves=0, min_child_weight=5,\n                missing=nan, monotone_constraints='()', n_estimators=1550,\n                n_jobs=0, num_parallel_tree=1, predictor='auto', random_state=420,\n                reg_alpha=0.1, reg_lambda=1, ...),\n  'f1': 0.7130334818221008,\n  'aur': 0.7697289855716347,\n  'acc': 0.6912492269635127,\n  'aupr': 0.7676491284791137}}"
     },
     "execution_count": 6,
     "metadata": {},
     "output_type": "execute_result"
    }
   ],
   "source": [
    "import pickle\n",
    "\n",
    "# 从文件中加载模型\n",
    "with open(\"model/deepwalk_encoded_all_xgb_models.pkl\", \"rb\") as f:\n",
    "    models_encoded = pickle.load(f)\n",
    "\n",
    "models_encoded"
   ],
   "metadata": {
    "collapsed": false,
    "ExecuteTime": {
     "end_time": "2023-05-13T14:44:57.504462Z",
     "start_time": "2023-05-13T14:44:56.404837Z"
    }
   }
  },
  {
   "cell_type": "code",
   "execution_count": 26,
   "outputs": [
    {
     "name": "stdout",
     "output_type": "stream",
     "text": [
      "epoch 1\n",
      "0.0625 0.25\n",
      "epoch 2\n",
      "0.0625 0.5\n",
      "epoch 3\n",
      "0.0625 1.0\n",
      "epoch 4\n",
      "0.0625 2.0\n",
      "epoch 5\n",
      "0.0625 4.0\n",
      "epoch 6\n",
      "0.0625 6.0\n",
      "epoch 7\n",
      "0.0625 8.0\n",
      "epoch 8\n",
      "0.0625 16.0\n",
      "epoch 9\n",
      "0.125 0.25\n",
      "epoch 10\n",
      "0.125 0.5\n",
      "epoch 11\n",
      "0.125 1.0\n",
      "epoch 12\n",
      "0.125 2.0\n",
      "epoch 13\n",
      "0.125 4.0\n",
      "epoch 14\n",
      "0.125 6.0\n",
      "epoch 15\n",
      "0.125 8.0\n",
      "epoch 16\n",
      "0.125 16.0\n",
      "epoch 17\n",
      "0.25 6.0\n",
      "epoch 18\n",
      "0.25 8.0\n",
      "epoch 19\n",
      "0.25 16.0\n",
      "epoch 20\n",
      "0.5 6.0\n",
      "epoch 21\n",
      "0.5 8.0\n",
      "epoch 22\n",
      "0.5 16.0\n",
      "epoch 23\n",
      "1.0 6.0\n",
      "epoch 24\n",
      "1.0 8.0\n",
      "epoch 25\n",
      "1.0 16.0\n",
      "epoch 26\n",
      "2.0 6.0\n",
      "epoch 27\n",
      "2.0 8.0\n",
      "epoch 28\n",
      "2.0 16.0\n",
      "epoch 29\n",
      "4.0 6.0\n",
      "epoch 30\n",
      "4.0 8.0\n",
      "epoch 31\n",
      "4.0 16.0\n"
     ]
    }
   ],
   "source": [
    "import itertools\n",
    "\n",
    "PARAM = {\n",
    "    'p': [0.25, 0.5, 1.0, 2.0, 4.0],\n",
    "    'q': [0.25, 0.5, 1.0, 2.0, 4.0]\n",
    "}\n",
    "\n",
    "PARAM2 = {\n",
    "    'p': [0.0625, 0.125, 0.25, 0.5, 1.0, 2.0, 4.0],\n",
    "    'q': [0.25, 0.5, 1.0, 2.0, 4.0, 6.0, 8.0, 16.0]\n",
    "}\n",
    "\n",
    "a = itertools.product(PARAM['p'], PARAM['q'])\n",
    "a = {i for i in a}\n",
    "\n",
    "i = 0\n",
    "for p, q in itertools.product(PARAM2['p'], PARAM2['q']):\n",
    "    if (p, q) in a:\n",
    "        continue\n",
    "    i += 1\n",
    "    print(f\"epoch {i}\")\n",
    "    print(p, q)"
   ],
   "metadata": {
    "collapsed": false,
    "ExecuteTime": {
     "end_time": "2023-05-14T14:36:46.776302Z",
     "start_time": "2023-05-14T14:36:46.772805Z"
    }
   }
  },
  {
   "cell_type": "code",
   "execution_count": 22,
   "outputs": [
    {
     "name": "stdout",
     "output_type": "stream",
     "text": [
      "[(0.05, 0.25), (0.05, 0.5), (0.05, 1.0), (0.05, 2.0), (0.05, 4.0), (0.05, 6.0), (0.05, 8.0), (0.125, 0.25), (0.125, 0.5), (0.125, 1.0), (0.125, 2.0), (0.125, 4.0), (0.125, 6.0), (0.125, 8.0), (0.25, 0.25), (0.25, 0.5), (0.25, 1.0), (0.25, 2.0), (0.25, 4.0), (0.25, 6.0), (0.25, 8.0), (0.5, 0.25), (0.5, 0.5), (0.5, 1.0), (0.5, 2.0), (0.5, 4.0), (0.5, 6.0), (0.5, 8.0), (1.0, 0.25), (1.0, 0.5), (1.0, 1.0), (1.0, 2.0), (1.0, 4.0), (1.0, 6.0), (1.0, 8.0), (2.0, 0.25), (2.0, 0.5), (2.0, 1.0), (2.0, 2.0), (2.0, 4.0), (2.0, 6.0), (2.0, 8.0), (4.0, 0.25), (4.0, 0.5), (4.0, 1.0), (4.0, 2.0), (4.0, 4.0), (4.0, 6.0), (4.0, 8.0)]\n"
     ]
    }
   ],
   "source": [
    "print(a)"
   ],
   "metadata": {
    "collapsed": false,
    "ExecuteTime": {
     "end_time": "2023-05-14T14:28:56.993678Z",
     "start_time": "2023-05-14T14:28:56.987610Z"
    }
   }
  },
  {
   "cell_type": "code",
   "execution_count": null,
   "outputs": [],
   "source": [],
   "metadata": {
    "collapsed": false
   }
  }
 ],
 "metadata": {
  "kernelspec": {
   "display_name": "Python 3",
   "language": "python",
   "name": "python3"
  },
  "language_info": {
   "codemirror_mode": {
    "name": "ipython",
    "version": 2
   },
   "file_extension": ".py",
   "mimetype": "text/x-python",
   "name": "python",
   "nbconvert_exporter": "python",
   "pygments_lexer": "ipython2",
   "version": "2.7.6"
  }
 },
 "nbformat": 4,
 "nbformat_minor": 0
}
