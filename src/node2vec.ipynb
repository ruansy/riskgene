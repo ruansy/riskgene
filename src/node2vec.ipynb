{
 "cells": [
  {
   "cell_type": "code",
   "execution_count": 1,
   "metadata": {
    "collapsed": true,
    "ExecuteTime": {
     "end_time": "2023-05-13T14:58:52.127128Z",
     "start_time": "2023-05-13T14:58:51.752115Z"
    }
   },
   "outputs": [],
   "source": [
    "import os\n",
    "import time\n",
    "\n",
    "import dill\n",
    "import xgboost\n",
    "from sklearn.model_selection import train_test_split\n",
    "from sklearn.utils.class_weight import compute_class_weight\n",
    "\n",
    "from src.mymetrics import MyMetrics\n",
    "from src.ppi import PPI\n",
    "\n",
    "\n",
    "def get_project_rootpath():\n",
    "    \"\"\"\n",
    "    获取项目根目录。此函数的能力体现在，不论当前module被import到任何位置，都可以正确获取项目根目录\n",
    "    :return:\n",
    "    \"\"\"\n",
    "    path = os.path.realpath(os.curdir)\n",
    "    while True:\n",
    "        for subpath in os.listdir(path):\n",
    "            # PyCharm项目中，'.idea'是必然存在的，且名称唯一\n",
    "            if '.idea' in subpath:\n",
    "                return path\n",
    "        path = os.path.dirname(path)\n",
    "\n",
    "\n",
    "os.chdir(get_project_rootpath())"
   ]
  },
  {
   "cell_type": "code",
   "execution_count": 2,
   "outputs": [],
   "source": [
    "EMB_ROOT_PATH = 'data/emb/'\n",
    "PPI_PATH = 'data/network/PPI-Network.txt'\n",
    "GENECOUNT_PATH = 'data/genecount.xls'\n",
    "NODE2VEC_EMB_ROOT_PATH = os.path.join(EMB_ROOT_PATH, 'node2vec')\n",
    "\n",
    "ppi = PPI(ppi_network_path=PPI_PATH, gene_count_path=GENECOUNT_PATH, k=6)"
   ],
   "metadata": {
    "collapsed": false,
    "ExecuteTime": {
     "end_time": "2023-05-13T14:58:56.981142Z",
     "start_time": "2023-05-13T14:58:55.992405Z"
    }
   }
  },
  {
   "cell_type": "code",
   "execution_count": 22,
   "outputs": [],
   "source": [
    "\n",
    "\n",
    "\n",
    "def dataloader_node2vec(emb_path, file_name, positive_gene, risklevel):\n",
    "    data = file_name.strip('.emb').split('_')\n",
    "    param = {i[0]: i[1:] for i in data[1:]}\n",
    "\n",
    "    # 训练特征和label\n",
    "    file_path = os.path.join(emb_path, file_name)\n",
    "    with open(file_path, 'r') as f:\n",
    "        data = [line.strip().split() for line in f.readlines()[1:]]\n",
    "    X = [line[1:] for line in data]\n",
    "    target = [1 if int(line[0]) in positive_gene else 0 for line in data]\n",
    "    X = np.asarray(X, dtype=float)\n",
    "    target = np.asarray(target, dtype=int)\n",
    "\n",
    "    # 权重\n",
    "    class_weight = compute_class_weight(class_weight='balanced', classes=[0, 1], y=target)\n",
    "    sample_weights = [risklevel[int(line[0])] * class_weight[1]\n",
    "                      if int(line[0]) in positive_gene else class_weight[0] for line in data]\n",
    "    return param, X, target, sample_weights"
   ],
   "metadata": {
    "collapsed": false,
    "ExecuteTime": {
     "end_time": "2023-05-14T08:16:14.327999Z",
     "start_time": "2023-05-14T08:16:14.324398Z"
    }
   }
  },
  {
   "cell_type": "code",
   "execution_count": 20,
   "outputs": [
    {
     "name": "stdout",
     "output_type": "stream",
     "text": [
      "Iteration 1 params: p:2.0, q:2.0\n",
      "Time taken: 85.15961718559265 seconds\n",
      "f1:0.7135, auc:0.7647, acc:0.6926, aupr:0.7519\n",
      "\n",
      "Iteration 2 params: p:2.0, q:0.5\n",
      "Time taken: 78.44836902618408 seconds\n",
      "f1:0.7172, auc:0.7741, acc:0.7004, aupr:0.7672\n",
      "\n",
      "Iteration 3 params: p:2.0, q:4.0\n",
      "Time taken: 101.81193518638611 seconds\n",
      "f1:0.7085, auc:0.7646, acc:0.6894, aupr:0.7522\n",
      "\n",
      "Iteration 4 params: p:2.0, q:1.0\n",
      "Time taken: 91.9674141407013 seconds\n",
      "f1:0.7242, auc:0.7746, acc:0.7041, aupr:0.7681\n",
      "\n",
      "Iteration 5 params: p:0.25, q:0.25\n",
      "Time taken: 79.17096304893494 seconds\n",
      "f1:0.7150, auc:0.7694, acc:0.6937, aupr:0.7691\n",
      "\n",
      "Iteration 6 params: p:0.5, q:2.0\n",
      "Time taken: 83.80633807182312 seconds\n",
      "f1:0.7180, auc:0.7716, acc:0.6982, aupr:0.7562\n",
      "\n",
      "Iteration 7 params: p:4.0, q:1.0\n",
      "Time taken: 76.73129796981812 seconds\n",
      "f1:0.7249, auc:0.7795, acc:0.7038, aupr:0.7762\n",
      "\n",
      "Iteration 8 params: p:2.0, q:0.25\n",
      "Time taken: 76.32741284370422 seconds\n",
      "f1:0.7198, auc:0.7799, acc:0.7030, aupr:0.7747\n",
      "\n",
      "Iteration 9 params: p:0.5, q:4.0\n",
      "Time taken: 80.10241675376892 seconds\n",
      "f1:0.7095, auc:0.7560, acc:0.6855, aupr:0.7458\n",
      "\n",
      "Iteration 10 params: p:0.5, q:0.5\n",
      "Time taken: 77.02209687232971 seconds\n",
      "f1:0.7165, auc:0.7716, acc:0.6951, aupr:0.7616\n",
      "\n",
      "Iteration 11 params: p:0.25, q:1.0\n",
      "Time taken: 76.76294779777527 seconds\n",
      "f1:0.7078, auc:0.7662, acc:0.6891, aupr:0.7518\n",
      "\n",
      "Iteration 12 params: p:0.5, q:0.25\n",
      "Time taken: 76.41867733001709 seconds\n",
      "f1:0.7229, auc:0.7788, acc:0.7036, aupr:0.7677\n",
      "\n",
      "Iteration 13 params: p:1.0, q:1.0\n",
      "Time taken: 75.95859813690186 seconds\n",
      "f1:0.7132, auc:0.7622, acc:0.6912, aupr:0.7516\n",
      "\n",
      "Iteration 14 params: p:4.0, q:2.0\n",
      "Time taken: 75.54347014427185 seconds\n",
      "f1:0.7202, auc:0.7692, acc:0.7008, aupr:0.7597\n",
      "\n",
      "Iteration 15 params: p:0.5, q:1.0\n",
      "Time taken: 75.67167019844055 seconds\n",
      "f1:0.7157, auc:0.7664, acc:0.6971, aupr:0.7552\n",
      "\n",
      "Iteration 16 params: p:0.25, q:0.5\n",
      "Time taken: 76.93286180496216 seconds\n",
      "f1:0.7242, auc:0.7717, acc:0.6971, aupr:0.7699\n",
      "\n",
      "Iteration 17 params: p:4.0, q:0.25\n",
      "Time taken: 75.63619589805603 seconds\n",
      "f1:0.7133, auc:0.7691, acc:0.6928, aupr:0.7625\n",
      "\n",
      "Iteration 18 params: p:1.0, q:0.5\n",
      "Time taken: 77.44728493690491 seconds\n",
      "f1:0.7182, auc:0.7741, acc:0.6982, aupr:0.7598\n",
      "\n",
      "Iteration 19 params: p:0.25, q:4.0\n",
      "Time taken: 76.31807518005371 seconds\n",
      "f1:0.7016, auc:0.7572, acc:0.6790, aupr:0.7395\n",
      "\n",
      "Iteration 20 params: p:4.0, q:4.0\n",
      "Time taken: 76.23884606361389 seconds\n",
      "f1:0.7139, auc:0.7627, acc:0.6909, aupr:0.7622\n",
      "\n",
      "Iteration 21 params: p:4.0, q:0.5\n",
      "Time taken: 76.71820282936096 seconds\n",
      "f1:0.7142, auc:0.7665, acc:0.6934, aupr:0.7592\n",
      "\n",
      "Iteration 22 params: p:1.0, q:0.25\n",
      "Time taken: 78.34675884246826 seconds\n",
      "f1:0.7277, auc:0.7813, acc:0.7066, aupr:0.7725\n",
      "\n",
      "Iteration 23 params: p:0.25, q:2.0\n",
      "Time taken: 83.42306208610535 seconds\n",
      "f1:0.7160, auc:0.7640, acc:0.6951, aupr:0.7654\n",
      "\n"
     ]
    }
   ],
   "source": [
    "ppi = PPI(ppi_network_path=PPI_PATH, gene_count_path=GENECOUNT_PATH, k=6)\n",
    "datasets = os.listdir(NODE2VEC_EMB_ROOT_PATH)\n",
    "models = {}\n",
    "result_acc = {}\n",
    "result_f1 = {}\n",
    "result_auc = {}\n",
    "result_aupr = {}\n",
    "step = 1\n",
    "\n",
    "xgb_params = {\n",
    "    'objective': 'binary:logistic',\n",
    "    'eval_metric': 'auc',\n",
    "    'n_estimators': 1550,\n",
    "    'learning_rate': 0.01,\n",
    "    'max_depth': 6,\n",
    "    'min_child_weight': 5,\n",
    "    'gamma': 0.5,\n",
    "    'subsample': 0.8,\n",
    "    'colsample_bytree': 0.9,\n",
    "    'reg_alpha': 0.1,\n",
    "    'reg_lambda': 1,\n",
    "    'seed': 420\n",
    "}\n",
    "\n",
    "for dataset in datasets:\n",
    "    start_time = time.time()\n",
    "\n",
    "    params, X, y, weight = dataloader_node2vec(NODE2VEC_EMB_ROOT_PATH, dataset, ppi.positive_id, ppi.risk_level)\n",
    "    print(f\"Iteration {step} params: p:{params['p']}, q:{params['q']}\")\n",
    "    X_train, X_test, y_train, y_test, weight_train, weights_test = train_test_split(X, y,\n",
    "                                                                                    weight,\n",
    "                                                                                    test_size=0.3)\n",
    "    classifier = xgboost.XGBClassifier(**xgb_params)\n",
    "    classifier.fit(X_train, y_train)\n",
    "    y_pred = classifier.predict(X_test)\n",
    "    y_score = classifier.predict_proba(X_test)[:, 1]\n",
    "\n",
    "    metric = MyMetrics(y_test, y_pred)\n",
    "    acc, f1, auc, aupr = metric.evaluate(y_test, y_pred, y_score)\n",
    "    result_acc[(params['q'], params['p'])] = acc\n",
    "    result_f1[(params['q'], params['p'])] = f1\n",
    "    result_auc[(params['q'], params['p'])] = auc\n",
    "    result_aupr[(params['q'], params['p'])] = aupr\n",
    "    # save the trained model\n",
    "    model_name = f\"{params['q']}_{params['p']}\"\n",
    "    models[model_name] = classifier\n",
    "\n",
    "    end_time = time.time()\n",
    "    time_taken = end_time - start_time\n",
    "    print(f\"Time taken: {time_taken} seconds\")\n",
    "    print(f\"f1:{f1:.4f}, auc:{auc:.4f}, acc:{acc:.4f}, aupr:{aupr:.4f}\\n\")\n",
    "    step += 1\n",
    "\n",
    "# save all models in a file\n",
    "with open(\"model/node2vec_all_models.pkl\", \"wb\") as f:\n",
    "    dill.dump(models, f)"
   ],
   "metadata": {
    "collapsed": false,
    "ExecuteTime": {
     "end_time": "2023-05-14T07:59:03.584622Z",
     "start_time": "2023-05-14T07:28:30.395084Z"
    }
   }
  },
  {
   "cell_type": "code",
   "execution_count": 59,
   "outputs": [],
   "source": [
    "import numpy as np\n",
    "import seaborn as sns\n",
    "import matplotlib.pyplot as plt\n",
    "\n",
    "\n",
    "def heatmap_analysis(data_dict):\n",
    "    # 提取唯一的k1和k2值\n",
    "    p_values = sorted(set(k1 for k1, k2 in data_dict.keys()))\n",
    "    q_values = sorted(set(k2 for k1, k2 in data_dict.keys()))\n",
    "\n",
    "    # 创建空的二维数组\n",
    "    data_array = np.zeros((len(p_values), len(q_values)))\n",
    "\n",
    "    # 将字典数据填充到二维数组中\n",
    "    for i, k1 in enumerate(p_values):\n",
    "        for j, k2 in enumerate(q_values):\n",
    "            data_array[i, j] = data_dict.get((k1, k2), 0.0)\n",
    "\n",
    "    # 创建Seaborn热力图\n",
    "    sns.set_palette(\"hls\")\n",
    "    sns.heatmap(data_array)\n",
    "\n",
    "    # 设置x轴和y轴标签\n",
    "    plt.ylabel('p')\n",
    "    plt.xlabel('q')\n",
    "    plt.xticks(np.arange(len(q_values)) + 0.5, q_values)\n",
    "    plt.yticks(np.arange(len(p_values)) + 0.5, p_values)\n",
    "\n",
    "    # 显示图形\n",
    "    plt.show()"
   ],
   "metadata": {
    "collapsed": false,
    "ExecuteTime": {
     "end_time": "2023-05-14T14:23:32.216181Z",
     "start_time": "2023-05-14T14:23:32.212067Z"
    }
   }
  },
  {
   "cell_type": "code",
   "execution_count": 60,
   "outputs": [
    {
     "data": {
      "text/plain": "<Figure size 640x480 with 2 Axes>",
      "image/png": "[encoded data removed]"
     },
     "metadata": {},
     "output_type": "display_data"
    }
   ],
   "source": [
    "heatmap_analysis(result_acc)"
   ],
   "metadata": {
    "collapsed": false,
    "ExecuteTime": {
     "end_time": "2023-05-14T14:23:33.064123Z",
     "start_time": "2023-05-14T14:23:32.938854Z"
    }
   }
  },
  {
   "cell_type": "code",
   "execution_count": 50,
   "outputs": [
    {
     "data": {
      "text/plain": "<Figure size 640x480 with 2 Axes>",
      "image/png": "[encoded data removed]"
     },
     "metadata": {},
     "output_type": "display_data"
    }
   ],
   "source": [
    "heatmap_analysis(result_auc)"
   ],
   "metadata": {
    "collapsed": false,
    "ExecuteTime": {
     "end_time": "2023-05-14T14:17:55.729551Z",
     "start_time": "2023-05-14T14:17:55.593936Z"
    }
   }
  },
  {
   "cell_type": "code",
   "execution_count": 51,
   "outputs": [
    {
     "data": {
      "text/plain": "<Figure size 640x480 with 2 Axes>",
      "image/png": "[encoded data removed]"
     },
     "metadata": {},
     "output_type": "display_data"
    }
   ],
   "source": [
    "heatmap_analysis(result_f1)"
   ],
   "metadata": {
    "collapsed": false,
    "ExecuteTime": {
     "end_time": "2023-05-14T14:18:12.118982Z",
     "start_time": "2023-05-14T14:18:11.883866Z"
    }
   }
  },
  {
   "cell_type": "code",
   "execution_count": 52,
   "outputs": [
    {
     "data": {
      "text/plain": "<Figure size 640x480 with 2 Axes>",
      "image/png": "[encoded data removed]"
     },
     "metadata": {},
     "output_type": "display_data"
    }
   ],
   "source": [
    "heatmap_analysis(result_aupr)"
   ],
   "metadata": {
    "collapsed": false,
    "ExecuteTime": {
     "end_time": "2023-05-14T14:18:19.483023Z",
     "start_time": "2023-05-14T14:18:19.349304Z"
    }
   }
  },
  {
   "cell_type": "code",
   "execution_count": 61,
   "outputs": [],
   "source": [
    "with open('log/result_node2vec.pkl','wb') as f:\n",
    "    dill.dump(result_acc,f)\n",
    "    dill.dump(result_aupr,f)\n",
    "    dill.dump(result_f1,f)\n",
    "    dill.dump(result_auc,f)"
   ],
   "metadata": {
    "collapsed": false,
    "ExecuteTime": {
     "end_time": "2023-05-14T14:42:38.806401Z",
     "start_time": "2023-05-14T14:42:38.789986Z"
    }
   }
  }
 ],
 "metadata": {
  "kernelspec": {
   "display_name": "Python 3",
   "language": "python",
   "name": "python3"
  },
  "language_info": {
   "codemirror_mode": {
    "name": "ipython",
    "version": 2
   },
   "file_extension": ".py",
   "mimetype": "text/x-python",
   "name": "python",
   "nbconvert_exporter": "python",
   "pygments_lexer": "ipython2",
   "version": "2.7.6"
  }
 },
 "nbformat": 4,
 "nbformat_minor": 0
}
