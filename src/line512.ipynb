{
 "cells": [
  {
   "cell_type": "code",
   "execution_count": 1,
   "metadata": {
    "collapsed": true,
    "pycharm": {
     "name": "#%%\n"
    }
   },
   "outputs": [],
   "source": [
    "import os\n",
    "\n",
    "import numpy as np\n",
    "from sklearn.utils.class_weight import compute_class_weight\n",
    "\n",
    "from src import ppi\n"
   ]
  },
  {
   "cell_type": "code",
   "execution_count": 2,
   "outputs": [],
   "source": [
    "def get_project_rootpath():\n",
    "    path = os.path.realpath(os.curdir)\n",
    "    while True:\n",
    "        for subpath in os.listdir(path):\n",
    "            # PyCharm项目中，'.idea'是必然存在的，且名称唯一\n",
    "            if '.idea' in subpath:\n",
    "                return path\n",
    "        path = os.path.dirname(path)\n",
    "\n",
    "\n",
    "os.chdir(get_project_rootpath())\n",
    "# 文件路径\n",
    "PPI_PATH = 'data/network/PPI-Network.txt'\n",
    "CANDIDATE_NAME_PATH = 'data/candidate_genes.txt'\n",
    "CANDIDATE_ID_PATH = 'data/candidate_id.txt'\n",
    "GENECOUNT_PATH = 'data/genecount.xls'\n",
    "EMB_ROOT_PATH = 'data/emb/'\n",
    "LINE_EMB_ROOT_PATH = os.path.join(EMB_ROOT_PATH, 'line')"
   ],
   "metadata": {
    "collapsed": false,
    "pycharm": {
     "name": "#%%\n"
    }
   }
  },
  {
   "cell_type": "code",
   "execution_count": 3,
   "outputs": [],
   "source": [
    "nx_ppi_network, ppi_id_list = ppi.get_ppi_network(PPI_PATH)"
   ],
   "metadata": {
    "collapsed": false,
    "pycharm": {
     "name": "#%%\n"
    }
   }
  },
  {
   "cell_type": "code",
   "execution_count": 4,
   "outputs": [],
   "source": [
    "def parse_line_emb(file_name, positive_gene_id_set, risklevel):\n",
    "    data = file_name.strip().split('_')\n",
    "    # 计算维度\n",
    "    dim = int(data[1].rstrip('.emb')[1:])\n",
    "\n",
    "    # 训练特征和label\n",
    "    file_path = os.path.join(LINE_EMB_ROOT_PATH, file_name)\n",
    "    with open(file_path, 'r') as f:\n",
    "        data = [line.strip().split() for line in f.readlines()[1:]]\n",
    "    X = [line[1:] for line in data]\n",
    "    target = [1 if int(line[0]) in positive_gene_id_set else 0 for line in data]\n",
    "    X = np.asarray(X, dtype=float)\n",
    "    target = np.asarray(target, dtype=int)\n",
    "\n",
    "    # 权重\n",
    "    class_weight = compute_class_weight(class_weight='balanced', classes=[0, 1], y=target)\n",
    "    keys = risklevel.keys()\n",
    "    sample_weights = [risklevel[int(line[0])] * class_weight[1]\n",
    "                      if int(line[0]) in keys else class_weight[0] for line in data]\n",
    "    return dim, X, target, sample_weights\n"
   ],
   "metadata": {
    "collapsed": false,
    "pycharm": {
     "name": "#%%\n"
    }
   }
  },
  {
   "cell_type": "code",
   "execution_count": 33,
   "outputs": [],
   "source": [
    "from sklearn.model_selection import train_test_split\n",
    "from sklearn import metrics\n",
    "\n",
    "\n",
    "class Cmodel():\n",
    "    def __init__(self, features, labels, sample_weights):\n",
    "        self.features = features\n",
    "        self.labels = labels\n",
    "        self.model = None\n",
    "        self.features_train, self.features_test, self.labels_train, self.labels_test, self.weights_train, self.weights_test = train_test_split(\n",
    "            features, labels, sample_weights, test_size=0.3)\n",
    "\n",
    "    def set_model(self, model):\n",
    "        self.model = model\n",
    "\n",
    "    def training(self):\n",
    "        self.model.fit(self.features_train, self.labels_train, sample_weight=self.weights_train)\n",
    "        return\n",
    "\n",
    "    def evaluation(self):\n",
    "        y_pred = self.model.predict(self.features_test)\n",
    "        y_score = self.model.predict_proba(self.features_test)[:, 1]\n",
    "\n",
    "        # 计算准确率\n",
    "        acc = metrics.accuracy_score(y_pred=y_pred, y_true=self.labels_test)\n",
    "        # 计算精确率和召回率\n",
    "        precision = metrics.precision_score(y_true=self.labels_test, y_pred=y_pred)\n",
    "        recall = metrics.recall_score(y_true=self.labels_test, y_pred=y_pred)\n",
    "        # 计算F1分数和AUC\n",
    "        f1 = metrics.f1_score(y_true=self.labels_test, y_pred=y_pred)\n",
    "        auc = metrics.roc_auc_score(y_true=self.labels_test, y_score=y_score)\n",
    "        # 混淆矩阵\n",
    "        confusion_matrix = metrics.confusion_matrix(y_true=self.labels_test, y_pred=y_pred)\n",
    "        # 结果报告\n",
    "        report = metrics.classification_report(y_true=self.labels_test, y_pred=y_pred, digits=4)\n",
    "\n",
    "        return acc, precision, recall, f1, auc, confusion_matrix, report"
   ],
   "metadata": {
    "collapsed": false,
    "pycharm": {
     "name": "#%%\n"
    }
   }
  },
  {
   "cell_type": "code",
   "execution_count": 34,
   "outputs": [],
   "source": [
    "positive_gene_id_set, risk_level = ppi.set_candidate_gene(GENECOUNT_PATH, k=6)\n",
    "\n",
    "line_filenames = os.listdir(LINE_EMB_ROOT_PATH)\n",
    "for name in line_filenames:\n",
    "    dim, X, y, sample_weights = parse_line_emb(name, positive_gene_id_set, risk_level)\n",
    "    if dim != 512:\n",
    "        cmodel = Cmodel(X, y, sample_weights)"
   ],
   "metadata": {
    "collapsed": false,
    "pycharm": {
     "name": "#%%\n"
    }
   }
  },
  {
   "cell_type": "code",
   "execution_count": 63,
   "outputs": [],
   "source": [
    "from sklearn.ensemble import RandomForestClassifier\n",
    "\n",
    "param = {\"n_estimators\": [10, 15, 20, 30, 40, 50, 100],\n",
    "         \"max_depth\": [10, 15, 20, 25, 30, 40, 50, 60, 80, 100, 120]}\n",
    "results = {}\n",
    "for i in param['n_estimators']:\n",
    "    cmodel.set_model(RandomForestClassifier(n_jobs=-1, max_depth=40))\n",
    "    cmodel.training()\n",
    "    results[i] = cmodel.evaluation()\n"
   ],
   "metadata": {
    "collapsed": false,
    "pycharm": {
     "name": "#%%\n"
    }
   }
  },
  {
   "cell_type": "code",
   "execution_count": 40,
   "outputs": [
    {
     "data": {
      "text/plain": "array([[ 240, 2916],\n       [   8, 3304]])"
     },
     "execution_count": 40,
     "metadata": {},
     "output_type": "execute_result"
    }
   ],
   "source": [
    "# cmodel.set_model(RandomForestClassifier(n_jobs=-1, max_depth=10))\n",
    "# cmodel.training()\n",
    "# result = cmodel.evaluation()"
   ],
   "metadata": {
    "collapsed": false,
    "pycharm": {
     "name": "#%%\n"
    }
   }
  },
  {
   "cell_type": "code",
   "execution_count": 64,
   "outputs": [
    {
     "name": "stdout",
     "output_type": "stream",
     "text": [
      "10\n",
      "              precision    recall  f1-score   support\n",
      "\n",
      "           0     0.6597    0.6990    0.6788      3156\n",
      "           1     0.6959    0.6564    0.6756      3312\n",
      "\n",
      "    accuracy                         0.6772      6468\n",
      "   macro avg     0.6778    0.6777    0.6772      6468\n",
      "weighted avg     0.6782    0.6772    0.6771      6468\n",
      "\n",
      "15\n",
      "              precision    recall  f1-score   support\n",
      "\n",
      "           0     0.6607    0.6930    0.6765      3156\n",
      "           1     0.6932    0.6609    0.6767      3312\n",
      "\n",
      "    accuracy                         0.6766      6468\n",
      "   macro avg     0.6769    0.6769    0.6766      6468\n",
      "weighted avg     0.6773    0.6766    0.6766      6468\n",
      "\n",
      "20\n",
      "              precision    recall  f1-score   support\n",
      "\n",
      "           0     0.6624    0.6933    0.6775      3156\n",
      "           1     0.6942    0.6633    0.6784      3312\n",
      "\n",
      "    accuracy                         0.6780      6468\n",
      "   macro avg     0.6783    0.6783    0.6780      6468\n",
      "weighted avg     0.6787    0.6780    0.6780      6468\n",
      "\n",
      "30\n",
      "              precision    recall  f1-score   support\n",
      "\n",
      "           0     0.6646    0.6914    0.6777      3156\n",
      "           1     0.6942    0.6676    0.6806      3312\n",
      "\n",
      "    accuracy                         0.6792      6468\n",
      "   macro avg     0.6794    0.6795    0.6792      6468\n",
      "weighted avg     0.6798    0.6792    0.6792      6468\n",
      "\n",
      "40\n",
      "              precision    recall  f1-score   support\n",
      "\n",
      "           0     0.6611    0.6866    0.6736      3156\n",
      "           1     0.6900    0.6646    0.6770      3312\n",
      "\n",
      "    accuracy                         0.6753      6468\n",
      "   macro avg     0.6755    0.6756    0.6753      6468\n",
      "weighted avg     0.6759    0.6753    0.6754      6468\n",
      "\n",
      "50\n",
      "              precision    recall  f1-score   support\n",
      "\n",
      "           0     0.6627    0.6930    0.6775      3156\n",
      "           1     0.6941    0.6639    0.6787      3312\n",
      "\n",
      "    accuracy                         0.6781      6468\n",
      "   macro avg     0.6784    0.6785    0.6781      6468\n",
      "weighted avg     0.6788    0.6781    0.6781      6468\n",
      "\n",
      "100\n",
      "              precision    recall  f1-score   support\n",
      "\n",
      "           0     0.6642    0.6926    0.6781      3156\n",
      "           1     0.6947    0.6664    0.6802      3312\n",
      "\n",
      "    accuracy                         0.6792      6468\n",
      "   macro avg     0.6795    0.6795    0.6792      6468\n",
      "weighted avg     0.6798    0.6792    0.6792      6468\n",
      "\n"
     ]
    }
   ],
   "source": [
    "for i, v in results.items():\n",
    "    print(i)\n",
    "    print(v[-1])"
   ],
   "metadata": {
    "collapsed": false,
    "pycharm": {
     "name": "#%%\n"
    }
   }
  },
  {
   "cell_type": "code",
   "execution_count": 1,
   "outputs": [],
   "source": [
    "# 训练SVM\n",
    "from sklearn import svm\n",
    "\n",
    "clf_linear = svm.LinearSVC(C=1.0, sample_weights=cmodel.weights_train)\n",
    "Cmodel.set_model(clf_linear)"
   ],
   "metadata": {
    "collapsed": false,
    "pycharm": {
     "name": "#%%\n"
    }
   }
  },
  {
   "cell_type": "code",
   "execution_count": null,
   "outputs": [],
   "source": [],
   "metadata": {
    "collapsed": false,
    "pycharm": {
     "name": "#%%\n"
    }
   }
  }
 ],
 "metadata": {
  "kernelspec": {
   "display_name": "Python 3",
   "language": "python",
   "name": "python3"
  },
  "language_info": {
   "codemirror_mode": {
    "name": "ipython",
    "version": 2
   },
   "file_extension": ".py",
   "mimetype": "text/x-python",
   "name": "python",
   "nbconvert_exporter": "python",
   "pygments_lexer": "ipython2",
   "version": "2.7.6"
  }
 },
 "nbformat": 4,
 "nbformat_minor": 0
}